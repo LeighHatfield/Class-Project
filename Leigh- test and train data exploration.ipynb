{
 "cells": [
  {
   "cell_type": "markdown",
   "id": "f1bfbb75",
   "metadata": {},
   "source": [
    "# Traffic Jam Problem"
   ]
  },
  {
   "cell_type": "code",
   "execution_count": 136,
   "id": "be8c798e",
   "metadata": {},
   "outputs": [],
   "source": [
    "from IPython.display import Image\n",
    "import pandas as pd\n",
    "import numpy as np\n",
    "from sklearn.datasets import load_breast_cancer\n",
    "\n",
    "import seaborn as sns\n",
    "sns.set(rc={'figure.figsize':(10,6)}) #Set our seaborn aesthetics (we're going to customize our figure size)\n",
    "\n",
    "import warnings\n",
    "warnings.simplefilter(\"ignore\")\n",
    "import matplotlib.pyplot as plt"
   ]
  },
  {
   "cell_type": "markdown",
<<<<<<< HEAD
   "id": "3cc96059",
=======
   "id": "24e88328",
>>>>>>> c2bc8c6575e733a6b149f8c35b55d03a41571fe1
   "metadata": {},
   "source": [
    "## some things that I did/some thoughts:\n",
    "I started with a copy of Elyse's original solo exploration and went from there\n",
    "- dropped= payment method, payment receipt, seat number, \n",
    "- changed travel time to timestamp (well i tried) \n",
    "- create columns for weekday and weekday number from travel date\n",
    "    - attempted some EDA with this\n",
    "- create columns for day of month, month, and year from travel date\n",
    "- target = number of seats\n",
    "- for preprocessing: \n",
    "    - drop travel date, year, travel to, max capacity (synonymous to car type), weekday_num (synonymous to weekday)\n",
    "    - categorical: travel_time, travel_from, car_type, weekday\n",
    "        - use one-hot encoder\n",
    "    - numerical: month, day\n",
    "- model attempts:\n",
    "    - linear regression\n",
    "    - random forest regressor\n",
    "    - xgbregressor\n",
    "- seems like random forest did the best out of these"
   ]
  },
  {
   "cell_type": "markdown",
   "id": "34aa3931",
   "metadata": {},
   "source": [
    "# Problem\n",
    "\n",
    "This challenge asks you to **build a model that predicts the number of seats that Mobiticket can expect to sell for each ride, i.e. for a specific route on a specific date and time.** There are 14 routes in this dataset. All of the routes end in Nairobi and originate in towns to the North-West of Nairobi towards Lake Victoria.\n",
    "\n",
    "The routes from these 14 origins to the first stop in the outskirts of Nairobi takes approximately 8 to 9 hours from time of departure. From the first stop in the outskirts of Nairobi into the main bus terminal, where most passengers get off, in Central Business District, takes another 2 to 3 hours depending on traffic.\n",
    "\n",
    "The three stops that all these routes make in Nairobi (in order) are:\n",
    "\n",
    "1. Kawangware: the first stop in the outskirts of Nairobi\n",
    "2. Westlands\n",
    "3. Afya Centre: the main bus terminal where most passengers disembark\n",
    "\n",
    "All of these points are mapped here.\n",
    "\n",
    "Passengers of these bus (or shuttle) rides are affected by Nairobi traffic not only during their ride into the city, but from there they must continue their journey to their final destination in Nairobi wherever that may be. Traffic can act as a deterrent for those who have the option to avoid buses that arrive in Nairobi during peak traffic hours. On the other hand, traffic may be an indication for people’s movement patterns, reflecting business hours, cultural events, political events, and holidays.\n",
    "\n"
   ]
  },
  {
   "cell_type": "markdown",
   "id": "96e8eb0c",
   "metadata": {},
   "source": [
    "# Data Cleaning"
   ]
  },
  {
   "cell_type": "markdown",
   "id": "3b642a6d",
   "metadata": {},
   "source": [
    "## Making Useable Data Frame"
   ]
  },
  {
   "cell_type": "code",
   "execution_count": 137,
   "id": "4726c5f8",
   "metadata": {},
   "outputs": [
    {
     "data": {
      "text/html": [
       "<div>\n",
       "<style scoped>\n",
       "    .dataframe tbody tr th:only-of-type {\n",
       "        vertical-align: middle;\n",
       "    }\n",
       "\n",
       "    .dataframe tbody tr th {\n",
       "        vertical-align: top;\n",
       "    }\n",
       "\n",
       "    .dataframe thead th {\n",
       "        text-align: right;\n",
       "    }\n",
       "</style>\n",
       "<table border=\"1\" class=\"dataframe\">\n",
       "  <thead>\n",
       "    <tr style=\"text-align: right;\">\n",
       "      <th></th>\n",
       "      <th>ride_id</th>\n",
       "      <th>seat_number</th>\n",
       "      <th>payment_method</th>\n",
       "      <th>payment_receipt</th>\n",
       "      <th>travel_date</th>\n",
       "      <th>travel_time</th>\n",
       "      <th>travel_from</th>\n",
       "      <th>travel_to</th>\n",
       "      <th>car_type</th>\n",
       "      <th>max_capacity</th>\n",
       "    </tr>\n",
       "  </thead>\n",
       "  <tbody>\n",
       "    <tr>\n",
       "      <th>0</th>\n",
       "      <td>1442</td>\n",
       "      <td>15A</td>\n",
       "      <td>Mpesa</td>\n",
       "      <td>UZUEHCBUSO</td>\n",
       "      <td>17-10-17</td>\n",
       "      <td>7:15</td>\n",
       "      <td>Migori</td>\n",
       "      <td>Nairobi</td>\n",
       "      <td>Bus</td>\n",
       "      <td>49</td>\n",
       "    </tr>\n",
       "    <tr>\n",
       "      <th>1</th>\n",
       "      <td>5437</td>\n",
       "      <td>14A</td>\n",
       "      <td>Mpesa</td>\n",
       "      <td>TIHLBUSGTE</td>\n",
       "      <td>19-11-17</td>\n",
       "      <td>7:12</td>\n",
       "      <td>Migori</td>\n",
       "      <td>Nairobi</td>\n",
       "      <td>Bus</td>\n",
       "      <td>49</td>\n",
       "    </tr>\n",
       "    <tr>\n",
       "      <th>2</th>\n",
       "      <td>5710</td>\n",
       "      <td>8B</td>\n",
       "      <td>Mpesa</td>\n",
       "      <td>EQX8Q5G19O</td>\n",
       "      <td>26-11-17</td>\n",
       "      <td>7:05</td>\n",
       "      <td>Keroka</td>\n",
       "      <td>Nairobi</td>\n",
       "      <td>Bus</td>\n",
       "      <td>49</td>\n",
       "    </tr>\n",
       "    <tr>\n",
       "      <th>3</th>\n",
       "      <td>5777</td>\n",
       "      <td>19A</td>\n",
       "      <td>Mpesa</td>\n",
       "      <td>SGP18CL0ME</td>\n",
       "      <td>27-11-17</td>\n",
       "      <td>7:10</td>\n",
       "      <td>Homa Bay</td>\n",
       "      <td>Nairobi</td>\n",
       "      <td>Bus</td>\n",
       "      <td>49</td>\n",
       "    </tr>\n",
       "    <tr>\n",
       "      <th>4</th>\n",
       "      <td>5778</td>\n",
       "      <td>11A</td>\n",
       "      <td>Mpesa</td>\n",
       "      <td>BM97HFRGL9</td>\n",
       "      <td>27-11-17</td>\n",
       "      <td>7:12</td>\n",
       "      <td>Migori</td>\n",
       "      <td>Nairobi</td>\n",
       "      <td>Bus</td>\n",
       "      <td>49</td>\n",
       "    </tr>\n",
       "  </tbody>\n",
       "</table>\n",
       "</div>"
      ],
      "text/plain": [
       "   ride_id seat_number payment_method payment_receipt travel_date travel_time  \\\n",
       "0     1442         15A          Mpesa      UZUEHCBUSO    17-10-17        7:15   \n",
       "1     5437         14A          Mpesa      TIHLBUSGTE    19-11-17        7:12   \n",
       "2     5710          8B          Mpesa      EQX8Q5G19O    26-11-17        7:05   \n",
       "3     5777         19A          Mpesa      SGP18CL0ME    27-11-17        7:10   \n",
       "4     5778         11A          Mpesa      BM97HFRGL9    27-11-17        7:12   \n",
       "\n",
       "  travel_from travel_to car_type  max_capacity  \n",
       "0      Migori   Nairobi      Bus            49  \n",
       "1      Migori   Nairobi      Bus            49  \n",
       "2      Keroka   Nairobi      Bus            49  \n",
       "3    Homa Bay   Nairobi      Bus            49  \n",
       "4      Migori   Nairobi      Bus            49  "
      ]
     },
     "execution_count": 137,
     "metadata": {},
     "output_type": "execute_result"
    }
   ],
   "source": [
    "train = pd.read_csv(\"train_revised.csv\")\n",
    "train.head()\n",
    "# The data does not have explicit information on the number of seats sold for each ride"
   ]
  },
  {
   "cell_type": "code",
   "execution_count": 138,
   "id": "e832dd5a",
   "metadata": {},
   "outputs": [
    {
     "data": {
      "text/plain": [
       "(51645, 10)"
      ]
     },
     "execution_count": 138,
     "metadata": {},
     "output_type": "execute_result"
    }
   ],
   "source": [
    "train.shape"
   ]
  },
  {
   "cell_type": "code",
   "execution_count": 139,
   "id": "fbd85c32",
   "metadata": {},
   "outputs": [
    {
     "data": {
      "text/plain": [
       "6249"
      ]
     },
     "execution_count": 139,
     "metadata": {},
     "output_type": "execute_result"
    }
   ],
   "source": [
    "# Each row is one ticket and ride_id is one individual ride\n",
    "len(train['ride_id'].unique())"
   ]
  },
  {
   "cell_type": "code",
   "execution_count": 140,
   "id": "4c912899",
   "metadata": {},
   "outputs": [
    {
     "data": {
      "text/html": [
       "<div>\n",
       "<style scoped>\n",
       "    .dataframe tbody tr th:only-of-type {\n",
       "        vertical-align: middle;\n",
       "    }\n",
       "\n",
       "    .dataframe tbody tr th {\n",
       "        vertical-align: top;\n",
       "    }\n",
       "\n",
       "    .dataframe thead th {\n",
       "        text-align: right;\n",
       "    }\n",
       "</style>\n",
       "<table border=\"1\" class=\"dataframe\">\n",
       "  <thead>\n",
       "    <tr style=\"text-align: right;\">\n",
       "      <th></th>\n",
       "      <th>ride_id</th>\n",
       "      <th>seat_number</th>\n",
       "      <th>payment_method</th>\n",
       "      <th>payment_receipt</th>\n",
       "      <th>travel_date</th>\n",
       "      <th>travel_time</th>\n",
       "      <th>travel_from</th>\n",
       "      <th>travel_to</th>\n",
       "      <th>car_type</th>\n",
       "      <th>max_capacity</th>\n",
       "    </tr>\n",
       "  </thead>\n",
       "  <tbody>\n",
       "    <tr>\n",
       "      <th>3</th>\n",
       "      <td>5777</td>\n",
       "      <td>19A</td>\n",
       "      <td>Mpesa</td>\n",
       "      <td>SGP18CL0ME</td>\n",
       "      <td>27-11-17</td>\n",
       "      <td>7:10</td>\n",
       "      <td>Homa Bay</td>\n",
       "      <td>Nairobi</td>\n",
       "      <td>Bus</td>\n",
       "      <td>49</td>\n",
       "    </tr>\n",
       "    <tr>\n",
       "      <th>5</th>\n",
       "      <td>5777</td>\n",
       "      <td>18B</td>\n",
       "      <td>Mpesa</td>\n",
       "      <td>B6PBDU30IZ</td>\n",
       "      <td>27-11-17</td>\n",
       "      <td>7:10</td>\n",
       "      <td>Homa Bay</td>\n",
       "      <td>Nairobi</td>\n",
       "      <td>Bus</td>\n",
       "      <td>49</td>\n",
       "    </tr>\n",
       "    <tr>\n",
       "      <th>6</th>\n",
       "      <td>5777</td>\n",
       "      <td>14A</td>\n",
       "      <td>Mpesa</td>\n",
       "      <td>MZHGDGS6QZ</td>\n",
       "      <td>27-11-17</td>\n",
       "      <td>7:10</td>\n",
       "      <td>Homa Bay</td>\n",
       "      <td>Nairobi</td>\n",
       "      <td>Bus</td>\n",
       "      <td>49</td>\n",
       "    </tr>\n",
       "    <tr>\n",
       "      <th>60</th>\n",
       "      <td>5777</td>\n",
       "      <td>15B</td>\n",
       "      <td>Mpesa</td>\n",
       "      <td>7C7P3D5AJQ</td>\n",
       "      <td>27-11-17</td>\n",
       "      <td>7:10</td>\n",
       "      <td>Homa Bay</td>\n",
       "      <td>Nairobi</td>\n",
       "      <td>Bus</td>\n",
       "      <td>49</td>\n",
       "    </tr>\n",
       "    <tr>\n",
       "      <th>62</th>\n",
       "      <td>5777</td>\n",
       "      <td>16B</td>\n",
       "      <td>Mpesa</td>\n",
       "      <td>P013NWHQID</td>\n",
       "      <td>27-11-17</td>\n",
       "      <td>7:10</td>\n",
       "      <td>Homa Bay</td>\n",
       "      <td>Nairobi</td>\n",
       "      <td>Bus</td>\n",
       "      <td>49</td>\n",
       "    </tr>\n",
       "  </tbody>\n",
       "</table>\n",
       "</div>"
      ],
      "text/plain": [
       "    ride_id seat_number payment_method payment_receipt travel_date  \\\n",
       "3      5777         19A          Mpesa      SGP18CL0ME    27-11-17   \n",
       "5      5777         18B          Mpesa      B6PBDU30IZ    27-11-17   \n",
       "6      5777         14A          Mpesa      MZHGDGS6QZ    27-11-17   \n",
       "60     5777         15B          Mpesa      7C7P3D5AJQ    27-11-17   \n",
       "62     5777         16B          Mpesa      P013NWHQID    27-11-17   \n",
       "\n",
       "   travel_time travel_from travel_to car_type  max_capacity  \n",
       "3         7:10    Homa Bay   Nairobi      Bus            49  \n",
       "5         7:10    Homa Bay   Nairobi      Bus            49  \n",
       "6         7:10    Homa Bay   Nairobi      Bus            49  \n",
       "60        7:10    Homa Bay   Nairobi      Bus            49  \n",
       "62        7:10    Homa Bay   Nairobi      Bus            49  "
      ]
     },
     "execution_count": 140,
     "metadata": {},
     "output_type": "execute_result"
    }
   ],
   "source": [
    "train.query(\"ride_id == 5777\")\n",
    "# The attributes for each ride_id is the same (except for seat_number and payment_receipt)"
   ]
  },
  {
   "cell_type": "code",
   "execution_count": 141,
   "id": "b1e171e5",
   "metadata": {},
   "outputs": [
    {
     "data": {
      "text/html": [
       "<div>\n",
       "<style scoped>\n",
       "    .dataframe tbody tr th:only-of-type {\n",
       "        vertical-align: middle;\n",
       "    }\n",
       "\n",
       "    .dataframe tbody tr th {\n",
       "        vertical-align: top;\n",
       "    }\n",
       "\n",
       "    .dataframe thead th {\n",
       "        text-align: right;\n",
       "    }\n",
       "</style>\n",
       "<table border=\"1\" class=\"dataframe\">\n",
       "  <thead>\n",
       "    <tr style=\"text-align: right;\">\n",
       "      <th></th>\n",
       "      <th>ride_id</th>\n",
       "      <th>seat_number</th>\n",
       "      <th>payment_method</th>\n",
       "      <th>payment_receipt</th>\n",
       "      <th>travel_date</th>\n",
       "      <th>travel_time</th>\n",
       "      <th>travel_from</th>\n",
       "      <th>travel_to</th>\n",
       "      <th>car_type</th>\n",
       "      <th>max_capacity</th>\n",
       "      <th>number_of_seats</th>\n",
       "    </tr>\n",
       "  </thead>\n",
       "  <tbody>\n",
       "    <tr>\n",
       "      <th>0</th>\n",
       "      <td>1442</td>\n",
       "      <td>15A</td>\n",
       "      <td>Mpesa</td>\n",
       "      <td>UZUEHCBUSO</td>\n",
       "      <td>17-10-17</td>\n",
       "      <td>7:15</td>\n",
       "      <td>Migori</td>\n",
       "      <td>Nairobi</td>\n",
       "      <td>Bus</td>\n",
       "      <td>49</td>\n",
       "      <td>1.0</td>\n",
       "    </tr>\n",
       "    <tr>\n",
       "      <th>1</th>\n",
       "      <td>5437</td>\n",
       "      <td>14A</td>\n",
       "      <td>Mpesa</td>\n",
       "      <td>TIHLBUSGTE</td>\n",
       "      <td>19-11-17</td>\n",
       "      <td>7:12</td>\n",
       "      <td>Migori</td>\n",
       "      <td>Nairobi</td>\n",
       "      <td>Bus</td>\n",
       "      <td>49</td>\n",
       "      <td>1.0</td>\n",
       "    </tr>\n",
       "    <tr>\n",
       "      <th>2</th>\n",
       "      <td>5710</td>\n",
       "      <td>8B</td>\n",
       "      <td>Mpesa</td>\n",
       "      <td>EQX8Q5G19O</td>\n",
       "      <td>26-11-17</td>\n",
       "      <td>7:05</td>\n",
       "      <td>Keroka</td>\n",
       "      <td>Nairobi</td>\n",
       "      <td>Bus</td>\n",
       "      <td>49</td>\n",
       "      <td>1.0</td>\n",
       "    </tr>\n",
       "    <tr>\n",
       "      <th>3</th>\n",
       "      <td>5777</td>\n",
       "      <td>19A</td>\n",
       "      <td>Mpesa</td>\n",
       "      <td>SGP18CL0ME</td>\n",
       "      <td>27-11-17</td>\n",
       "      <td>7:10</td>\n",
       "      <td>Homa Bay</td>\n",
       "      <td>Nairobi</td>\n",
       "      <td>Bus</td>\n",
       "      <td>49</td>\n",
       "      <td>1.0</td>\n",
       "    </tr>\n",
       "    <tr>\n",
       "      <th>4</th>\n",
       "      <td>5778</td>\n",
       "      <td>11A</td>\n",
       "      <td>Mpesa</td>\n",
       "      <td>BM97HFRGL9</td>\n",
       "      <td>27-11-17</td>\n",
       "      <td>7:12</td>\n",
       "      <td>Migori</td>\n",
       "      <td>Nairobi</td>\n",
       "      <td>Bus</td>\n",
       "      <td>49</td>\n",
       "      <td>1.0</td>\n",
       "    </tr>\n",
       "  </tbody>\n",
       "</table>\n",
       "</div>"
      ],
      "text/plain": [
       "   ride_id seat_number payment_method payment_receipt travel_date travel_time  \\\n",
       "0     1442         15A          Mpesa      UZUEHCBUSO    17-10-17        7:15   \n",
       "1     5437         14A          Mpesa      TIHLBUSGTE    19-11-17        7:12   \n",
       "2     5710          8B          Mpesa      EQX8Q5G19O    26-11-17        7:05   \n",
       "3     5777         19A          Mpesa      SGP18CL0ME    27-11-17        7:10   \n",
       "4     5778         11A          Mpesa      BM97HFRGL9    27-11-17        7:12   \n",
       "\n",
       "  travel_from travel_to car_type  max_capacity  number_of_seats  \n",
       "0      Migori   Nairobi      Bus            49              1.0  \n",
       "1      Migori   Nairobi      Bus            49              1.0  \n",
       "2      Keroka   Nairobi      Bus            49              1.0  \n",
       "3    Homa Bay   Nairobi      Bus            49              1.0  \n",
       "4      Migori   Nairobi      Bus            49              1.0  "
      ]
     },
     "execution_count": 141,
     "metadata": {},
     "output_type": "execute_result"
    }
   ],
   "source": [
    "train['number_of_seats'] = np.linspace(1,1,51645)\n",
    "train.head()\n",
    "# Adding col for each seat sold"
   ]
  },
  {
   "cell_type": "code",
   "execution_count": 142,
   "id": "7faff360",
   "metadata": {},
   "outputs": [
    {
     "data": {
      "text/html": [
       "<div>\n",
       "<style scoped>\n",
       "    .dataframe tbody tr th:only-of-type {\n",
       "        vertical-align: middle;\n",
       "    }\n",
       "\n",
       "    .dataframe tbody tr th {\n",
       "        vertical-align: top;\n",
       "    }\n",
       "\n",
       "    .dataframe thead th {\n",
       "        text-align: right;\n",
       "    }\n",
       "</style>\n",
       "<table border=\"1\" class=\"dataframe\">\n",
       "  <thead>\n",
       "    <tr style=\"text-align: right;\">\n",
       "      <th></th>\n",
       "      <th>number_of_seats</th>\n",
       "    </tr>\n",
       "    <tr>\n",
       "      <th>ride_id</th>\n",
       "      <th></th>\n",
       "    </tr>\n",
       "  </thead>\n",
       "  <tbody>\n",
       "    <tr>\n",
       "      <th>1442</th>\n",
       "      <td>1.0</td>\n",
       "    </tr>\n",
       "    <tr>\n",
       "      <th>5437</th>\n",
       "      <td>1.0</td>\n",
       "    </tr>\n",
       "    <tr>\n",
       "      <th>5710</th>\n",
       "      <td>1.0</td>\n",
       "    </tr>\n",
       "    <tr>\n",
       "      <th>5777</th>\n",
       "      <td>5.0</td>\n",
       "    </tr>\n",
       "    <tr>\n",
       "      <th>5778</th>\n",
       "      <td>31.0</td>\n",
       "    </tr>\n",
       "  </tbody>\n",
       "</table>\n",
       "</div>"
      ],
      "text/plain": [
       "         number_of_seats\n",
       "ride_id                 \n",
       "1442                 1.0\n",
       "5437                 1.0\n",
       "5710                 1.0\n",
       "5777                 5.0\n",
       "5778                31.0"
      ]
     },
     "execution_count": 142,
     "metadata": {},
     "output_type": "execute_result"
    }
   ],
   "source": [
    "# Number of tickets sold per ride\n",
    "nos_data = train.groupby('ride_id').sum()[['number_of_seats']]\n",
    "nos_data.head()"
   ]
  },
  {
   "cell_type": "code",
   "execution_count": 143,
   "id": "b391595d",
   "metadata": {},
   "outputs": [
    {
     "data": {
      "text/plain": [
       "(6249, 11)"
      ]
     },
     "execution_count": 143,
     "metadata": {},
     "output_type": "execute_result"
    }
   ],
   "source": [
    "# Dropping duplicate ride_id rows (row count is the same as nos_data)\n",
    "train_drop_dup = train.drop_duplicates(subset='ride_id', keep='first')\n",
    "train_drop_dup.shape"
   ]
  },
  {
   "cell_type": "code",
   "execution_count": 144,
   "id": "9d165f9e",
   "metadata": {},
   "outputs": [
    {
     "data": {
      "text/html": [
       "<div>\n",
       "<style scoped>\n",
       "    .dataframe tbody tr th:only-of-type {\n",
       "        vertical-align: middle;\n",
       "    }\n",
       "\n",
       "    .dataframe tbody tr th {\n",
       "        vertical-align: top;\n",
       "    }\n",
       "\n",
       "    .dataframe thead th {\n",
       "        text-align: right;\n",
       "    }\n",
       "</style>\n",
       "<table border=\"1\" class=\"dataframe\">\n",
       "  <thead>\n",
       "    <tr style=\"text-align: right;\">\n",
       "      <th></th>\n",
       "      <th>payment_method</th>\n",
       "      <th>travel_date</th>\n",
       "      <th>travel_time</th>\n",
       "      <th>travel_from</th>\n",
       "      <th>travel_to</th>\n",
       "      <th>car_type</th>\n",
       "      <th>max_capacity</th>\n",
       "      <th>number_of_seats_y</th>\n",
       "    </tr>\n",
       "    <tr>\n",
       "      <th>ride_id</th>\n",
       "      <th></th>\n",
       "      <th></th>\n",
       "      <th></th>\n",
       "      <th></th>\n",
       "      <th></th>\n",
       "      <th></th>\n",
       "      <th></th>\n",
       "      <th></th>\n",
       "    </tr>\n",
       "  </thead>\n",
       "  <tbody>\n",
       "    <tr>\n",
       "      <th>1442</th>\n",
       "      <td>Mpesa</td>\n",
       "      <td>17-10-17</td>\n",
       "      <td>7:15</td>\n",
       "      <td>Migori</td>\n",
       "      <td>Nairobi</td>\n",
       "      <td>Bus</td>\n",
       "      <td>49</td>\n",
       "      <td>1.0</td>\n",
       "    </tr>\n",
       "    <tr>\n",
       "      <th>5437</th>\n",
       "      <td>Mpesa</td>\n",
       "      <td>19-11-17</td>\n",
       "      <td>7:12</td>\n",
       "      <td>Migori</td>\n",
       "      <td>Nairobi</td>\n",
       "      <td>Bus</td>\n",
       "      <td>49</td>\n",
       "      <td>1.0</td>\n",
       "    </tr>\n",
       "    <tr>\n",
       "      <th>5710</th>\n",
       "      <td>Mpesa</td>\n",
       "      <td>26-11-17</td>\n",
       "      <td>7:05</td>\n",
       "      <td>Keroka</td>\n",
       "      <td>Nairobi</td>\n",
       "      <td>Bus</td>\n",
       "      <td>49</td>\n",
       "      <td>1.0</td>\n",
       "    </tr>\n",
       "    <tr>\n",
       "      <th>5777</th>\n",
       "      <td>Mpesa</td>\n",
       "      <td>27-11-17</td>\n",
       "      <td>7:10</td>\n",
       "      <td>Homa Bay</td>\n",
       "      <td>Nairobi</td>\n",
       "      <td>Bus</td>\n",
       "      <td>49</td>\n",
       "      <td>5.0</td>\n",
       "    </tr>\n",
       "    <tr>\n",
       "      <th>5778</th>\n",
       "      <td>Mpesa</td>\n",
       "      <td>27-11-17</td>\n",
       "      <td>7:12</td>\n",
       "      <td>Migori</td>\n",
       "      <td>Nairobi</td>\n",
       "      <td>Bus</td>\n",
       "      <td>49</td>\n",
       "      <td>31.0</td>\n",
       "    </tr>\n",
       "  </tbody>\n",
       "</table>\n",
       "</div>"
      ],
      "text/plain": [
       "        payment_method travel_date travel_time travel_from travel_to car_type  \\\n",
       "ride_id                                                                         \n",
       "1442             Mpesa    17-10-17        7:15      Migori   Nairobi      Bus   \n",
       "5437             Mpesa    19-11-17        7:12      Migori   Nairobi      Bus   \n",
       "5710             Mpesa    26-11-17        7:05      Keroka   Nairobi      Bus   \n",
       "5777             Mpesa    27-11-17        7:10    Homa Bay   Nairobi      Bus   \n",
       "5778             Mpesa    27-11-17        7:12      Migori   Nairobi      Bus   \n",
       "\n",
       "         max_capacity  number_of_seats_y  \n",
       "ride_id                                   \n",
       "1442               49                1.0  \n",
       "5437               49                1.0  \n",
       "5710               49                1.0  \n",
       "5777               49                5.0  \n",
       "5778               49               31.0  "
      ]
     },
     "execution_count": 144,
     "metadata": {},
     "output_type": "execute_result"
    }
   ],
   "source": [
    "train_proc = pd.merge(train_drop_dup, nos_data, on = 'ride_id')\n",
    "train_proc = train_proc.drop('seat_number', axis = 1)\n",
    "train_proc = train_proc.drop('payment_receipt', axis = 1).set_index('ride_id')\n",
    "train_proc = train_proc.drop('number_of_seats_x', axis = 1)\n",
    "train_proc.head()"
   ]
  },
  {
   "cell_type": "code",
   "execution_count": 145,
   "id": "14256df1",
   "metadata": {},
   "outputs": [
    {
     "data": {
      "text/plain": [
       "(6249, 8)"
      ]
     },
     "execution_count": 145,
     "metadata": {},
     "output_type": "execute_result"
    }
   ],
   "source": [
    "train_proc.shape\n",
    "# The same number of rows"
   ]
  },
  {
   "cell_type": "markdown",
   "id": "3b4a43e8",
   "metadata": {},
   "source": [
    "## Transforming Data (EDA)"
   ]
  },
  {
   "cell_type": "markdown",
   "id": "0626c14e",
   "metadata": {},
   "source": [
    "I am only transforming this set for exploratory analysis right now"
   ]
  },
  {
   "cell_type": "code",
   "execution_count": 146,
   "id": "eb843430",
   "metadata": {},
   "outputs": [],
   "source": [
    "from datetime import datetime, date, time"
   ]
  },
  {
   "cell_type": "code",
   "execution_count": 147,
   "id": "5a6ba3a7",
   "metadata": {},
   "outputs": [],
   "source": [
    " date_form = pd.to_datetime(train_proc.travel_date, infer_datetime_format=True)"
   ]
  },
  {
   "cell_type": "code",
   "execution_count": 149,
   "id": "cd7132f7",
   "metadata": {},
   "outputs": [
    {
     "data": {
      "text/html": [
       "<div>\n",
       "<style scoped>\n",
       "    .dataframe tbody tr th:only-of-type {\n",
       "        vertical-align: middle;\n",
       "    }\n",
       "\n",
       "    .dataframe tbody tr th {\n",
       "        vertical-align: top;\n",
       "    }\n",
       "\n",
       "    .dataframe thead th {\n",
       "        text-align: right;\n",
       "    }\n",
       "</style>\n",
       "<table border=\"1\" class=\"dataframe\">\n",
       "  <thead>\n",
       "    <tr style=\"text-align: right;\">\n",
       "      <th></th>\n",
       "      <th>payment_method</th>\n",
       "      <th>travel_date</th>\n",
       "      <th>travel_time</th>\n",
       "      <th>travel_from</th>\n",
       "      <th>travel_to</th>\n",
       "      <th>car_type</th>\n",
       "      <th>max_capacity</th>\n",
       "      <th>number_of_seats_y</th>\n",
       "      <th>month</th>\n",
       "      <th>year</th>\n",
       "      <th>day</th>\n",
       "    </tr>\n",
       "    <tr>\n",
       "      <th>ride_id</th>\n",
       "      <th></th>\n",
       "      <th></th>\n",
       "      <th></th>\n",
       "      <th></th>\n",
       "      <th></th>\n",
       "      <th></th>\n",
       "      <th></th>\n",
       "      <th></th>\n",
       "      <th></th>\n",
       "      <th></th>\n",
       "      <th></th>\n",
       "    </tr>\n",
       "  </thead>\n",
       "  <tbody>\n",
       "    <tr>\n",
       "      <th>1442</th>\n",
       "      <td>Mpesa</td>\n",
       "      <td>2017-10-17</td>\n",
       "      <td>7:15</td>\n",
       "      <td>Migori</td>\n",
       "      <td>Nairobi</td>\n",
       "      <td>Bus</td>\n",
       "      <td>49</td>\n",
       "      <td>1.0</td>\n",
       "      <td>10</td>\n",
       "      <td>2017</td>\n",
       "      <td>17</td>\n",
       "    </tr>\n",
       "    <tr>\n",
       "      <th>5437</th>\n",
       "      <td>Mpesa</td>\n",
       "      <td>2017-11-19</td>\n",
       "      <td>7:12</td>\n",
       "      <td>Migori</td>\n",
       "      <td>Nairobi</td>\n",
       "      <td>Bus</td>\n",
       "      <td>49</td>\n",
       "      <td>1.0</td>\n",
       "      <td>11</td>\n",
       "      <td>2017</td>\n",
       "      <td>19</td>\n",
       "    </tr>\n",
       "    <tr>\n",
       "      <th>5710</th>\n",
       "      <td>Mpesa</td>\n",
       "      <td>2017-11-26</td>\n",
       "      <td>7:05</td>\n",
       "      <td>Keroka</td>\n",
       "      <td>Nairobi</td>\n",
       "      <td>Bus</td>\n",
       "      <td>49</td>\n",
       "      <td>1.0</td>\n",
       "      <td>11</td>\n",
       "      <td>2017</td>\n",
       "      <td>26</td>\n",
       "    </tr>\n",
       "    <tr>\n",
       "      <th>5777</th>\n",
       "      <td>Mpesa</td>\n",
       "      <td>2017-11-27</td>\n",
       "      <td>7:10</td>\n",
       "      <td>Homa Bay</td>\n",
       "      <td>Nairobi</td>\n",
       "      <td>Bus</td>\n",
       "      <td>49</td>\n",
       "      <td>5.0</td>\n",
       "      <td>11</td>\n",
       "      <td>2017</td>\n",
       "      <td>27</td>\n",
       "    </tr>\n",
       "    <tr>\n",
       "      <th>5778</th>\n",
       "      <td>Mpesa</td>\n",
       "      <td>2017-11-27</td>\n",
       "      <td>7:12</td>\n",
       "      <td>Migori</td>\n",
       "      <td>Nairobi</td>\n",
       "      <td>Bus</td>\n",
       "      <td>49</td>\n",
       "      <td>31.0</td>\n",
       "      <td>11</td>\n",
       "      <td>2017</td>\n",
       "      <td>27</td>\n",
       "    </tr>\n",
       "  </tbody>\n",
       "</table>\n",
       "</div>"
      ],
      "text/plain": [
       "        payment_method travel_date travel_time travel_from travel_to car_type  \\\n",
       "ride_id                                                                         \n",
       "1442             Mpesa  2017-10-17        7:15      Migori   Nairobi      Bus   \n",
       "5437             Mpesa  2017-11-19        7:12      Migori   Nairobi      Bus   \n",
       "5710             Mpesa  2017-11-26        7:05      Keroka   Nairobi      Bus   \n",
       "5777             Mpesa  2017-11-27        7:10    Homa Bay   Nairobi      Bus   \n",
       "5778             Mpesa  2017-11-27        7:12      Migori   Nairobi      Bus   \n",
       "\n",
       "         max_capacity  number_of_seats_y  month  year  day  \n",
       "ride_id                                                     \n",
       "1442               49                1.0     10  2017   17  \n",
       "5437               49                1.0     11  2017   19  \n",
       "5710               49                1.0     11  2017   26  \n",
       "5777               49                5.0     11  2017   27  \n",
       "5778               49               31.0     11  2017   27  "
      ]
     },
     "execution_count": 149,
     "metadata": {},
     "output_type": "execute_result"
    }
   ],
   "source": [
    "# Spliting up travel date\n",
    "train_proc['travel_date'] = date_form\n",
    "train_proc['month'] = train_proc['travel_date'].dt.month\n",
    "train_proc['year'] = train_proc['travel_date'].dt.year\n",
    "train_proc['day'] = train_proc['travel_date'].dt.day\n",
    "train_proc.head()"
   ]
  },
  {
   "cell_type": "code",
   "execution_count": 150,
   "id": "61b62cde",
   "metadata": {},
   "outputs": [],
   "source": [
    "# Formatting travel_time (=departure time), format=\"%H:%M\"\n",
    "train_proc[\"travel_time\"] = pd.to_datetime(train_proc.travel_time, format=\"%H:%M\").dt.time"
   ]
  },
  {
   "cell_type": "code",
   "execution_count": 151,
   "id": "63775c97",
   "metadata": {},
   "outputs": [
    {
     "data": {
      "text/plain": [
       "payment_method               object\n",
       "travel_date          datetime64[ns]\n",
       "travel_time                  object\n",
       "travel_from                  object\n",
       "travel_to                    object\n",
       "car_type                     object\n",
       "max_capacity                  int64\n",
       "number_of_seats_y           float64\n",
       "month                         int64\n",
       "year                          int64\n",
       "day                           int64\n",
       "dtype: object"
      ]
     },
     "execution_count": 151,
     "metadata": {},
     "output_type": "execute_result"
    }
   ],
   "source": [
    "train_proc.dtypes"
   ]
  },
  {
   "cell_type": "code",
   "execution_count": 152,
   "id": "1b492c00",
   "metadata": {},
   "outputs": [
    {
     "name": "stdout",
     "output_type": "stream",
     "text": [
      "<class 'pandas.core.frame.DataFrame'>\n",
      "Int64Index: 6249 entries, 1442 to 14304\n",
      "Data columns (total 11 columns):\n",
      " #   Column             Non-Null Count  Dtype         \n",
      "---  ------             --------------  -----         \n",
      " 0   payment_method     6249 non-null   object        \n",
      " 1   travel_date        6249 non-null   datetime64[ns]\n",
      " 2   travel_time        6249 non-null   object        \n",
      " 3   travel_from        6249 non-null   object        \n",
      " 4   travel_to          6249 non-null   object        \n",
      " 5   car_type           6249 non-null   object        \n",
      " 6   max_capacity       6249 non-null   int64         \n",
      " 7   number_of_seats_y  6249 non-null   float64       \n",
      " 8   month              6249 non-null   int64         \n",
      " 9   year               6249 non-null   int64         \n",
      " 10  day                6249 non-null   int64         \n",
      "dtypes: datetime64[ns](1), float64(1), int64(4), object(5)\n",
      "memory usage: 585.8+ KB\n"
     ]
    }
   ],
   "source": [
    "train_proc.info()"
   ]
  },
  {
   "cell_type": "code",
   "execution_count": 153,
   "id": "7c8d064d",
   "metadata": {},
   "outputs": [
    {
     "data": {
      "text/html": [
       "<div>\n",
       "<style scoped>\n",
       "    .dataframe tbody tr th:only-of-type {\n",
       "        vertical-align: middle;\n",
       "    }\n",
       "\n",
       "    .dataframe tbody tr th {\n",
       "        vertical-align: top;\n",
       "    }\n",
       "\n",
       "    .dataframe thead th {\n",
       "        text-align: right;\n",
       "    }\n",
       "</style>\n",
       "<table border=\"1\" class=\"dataframe\">\n",
       "  <thead>\n",
       "    <tr style=\"text-align: right;\">\n",
       "      <th></th>\n",
       "      <th>payment_method</th>\n",
       "      <th>travel_date</th>\n",
       "      <th>travel_time</th>\n",
       "      <th>travel_from</th>\n",
       "      <th>travel_to</th>\n",
       "      <th>car_type</th>\n",
       "      <th>max_capacity</th>\n",
       "      <th>number_of_seats_y</th>\n",
       "      <th>month</th>\n",
       "      <th>year</th>\n",
       "      <th>day</th>\n",
       "    </tr>\n",
       "    <tr>\n",
       "      <th>ride_id</th>\n",
       "      <th></th>\n",
       "      <th></th>\n",
       "      <th></th>\n",
       "      <th></th>\n",
       "      <th></th>\n",
       "      <th></th>\n",
       "      <th></th>\n",
       "      <th></th>\n",
       "      <th></th>\n",
       "      <th></th>\n",
       "      <th></th>\n",
       "    </tr>\n",
       "  </thead>\n",
       "  <tbody>\n",
       "    <tr>\n",
       "      <th>1442</th>\n",
       "      <td>Mpesa</td>\n",
       "      <td>2017-10-17</td>\n",
       "      <td>07:15:00</td>\n",
       "      <td>Migori</td>\n",
       "      <td>Nairobi</td>\n",
       "      <td>Bus</td>\n",
       "      <td>49</td>\n",
       "      <td>1.0</td>\n",
       "      <td>10</td>\n",
       "      <td>2017</td>\n",
       "      <td>17</td>\n",
       "    </tr>\n",
       "    <tr>\n",
       "      <th>5437</th>\n",
       "      <td>Mpesa</td>\n",
       "      <td>2017-11-19</td>\n",
       "      <td>07:12:00</td>\n",
       "      <td>Migori</td>\n",
       "      <td>Nairobi</td>\n",
       "      <td>Bus</td>\n",
       "      <td>49</td>\n",
       "      <td>1.0</td>\n",
       "      <td>11</td>\n",
       "      <td>2017</td>\n",
       "      <td>19</td>\n",
       "    </tr>\n",
       "    <tr>\n",
       "      <th>5710</th>\n",
       "      <td>Mpesa</td>\n",
       "      <td>2017-11-26</td>\n",
       "      <td>07:05:00</td>\n",
       "      <td>Keroka</td>\n",
       "      <td>Nairobi</td>\n",
       "      <td>Bus</td>\n",
       "      <td>49</td>\n",
       "      <td>1.0</td>\n",
       "      <td>11</td>\n",
       "      <td>2017</td>\n",
       "      <td>26</td>\n",
       "    </tr>\n",
       "    <tr>\n",
       "      <th>5777</th>\n",
       "      <td>Mpesa</td>\n",
       "      <td>2017-11-27</td>\n",
       "      <td>07:10:00</td>\n",
       "      <td>Homa Bay</td>\n",
       "      <td>Nairobi</td>\n",
       "      <td>Bus</td>\n",
       "      <td>49</td>\n",
       "      <td>5.0</td>\n",
       "      <td>11</td>\n",
       "      <td>2017</td>\n",
       "      <td>27</td>\n",
       "    </tr>\n",
       "    <tr>\n",
       "      <th>5778</th>\n",
       "      <td>Mpesa</td>\n",
       "      <td>2017-11-27</td>\n",
       "      <td>07:12:00</td>\n",
       "      <td>Migori</td>\n",
       "      <td>Nairobi</td>\n",
       "      <td>Bus</td>\n",
       "      <td>49</td>\n",
       "      <td>31.0</td>\n",
       "      <td>11</td>\n",
       "      <td>2017</td>\n",
       "      <td>27</td>\n",
       "    </tr>\n",
       "  </tbody>\n",
       "</table>\n",
       "</div>"
      ],
      "text/plain": [
       "        payment_method travel_date travel_time travel_from travel_to car_type  \\\n",
       "ride_id                                                                         \n",
       "1442             Mpesa  2017-10-17    07:15:00      Migori   Nairobi      Bus   \n",
       "5437             Mpesa  2017-11-19    07:12:00      Migori   Nairobi      Bus   \n",
       "5710             Mpesa  2017-11-26    07:05:00      Keroka   Nairobi      Bus   \n",
       "5777             Mpesa  2017-11-27    07:10:00    Homa Bay   Nairobi      Bus   \n",
       "5778             Mpesa  2017-11-27    07:12:00      Migori   Nairobi      Bus   \n",
       "\n",
       "         max_capacity  number_of_seats_y  month  year  day  \n",
       "ride_id                                                     \n",
       "1442               49                1.0     10  2017   17  \n",
       "5437               49                1.0     11  2017   19  \n",
       "5710               49                1.0     11  2017   26  \n",
       "5777               49                5.0     11  2017   27  \n",
       "5778               49               31.0     11  2017   27  "
      ]
     },
     "execution_count": 153,
     "metadata": {},
     "output_type": "execute_result"
    }
   ],
   "source": [
    "train_proc.head()"
   ]
  },
  {
   "cell_type": "code",
   "execution_count": 154,
   "id": "de0678f3",
   "metadata": {},
   "outputs": [
    {
     "data": {
      "text/html": [
       "<div>\n",
       "<style scoped>\n",
       "    .dataframe tbody tr th:only-of-type {\n",
       "        vertical-align: middle;\n",
       "    }\n",
       "\n",
       "    .dataframe tbody tr th {\n",
       "        vertical-align: top;\n",
       "    }\n",
       "\n",
       "    .dataframe thead th {\n",
       "        text-align: right;\n",
       "    }\n",
       "</style>\n",
       "<table border=\"1\" class=\"dataframe\">\n",
       "  <thead>\n",
       "    <tr style=\"text-align: right;\">\n",
       "      <th></th>\n",
       "      <th>payment_method</th>\n",
       "      <th>travel_date</th>\n",
       "      <th>travel_time</th>\n",
       "      <th>travel_from</th>\n",
       "      <th>travel_to</th>\n",
       "      <th>car_type</th>\n",
       "      <th>max_capacity</th>\n",
       "      <th>number_of_seats_y</th>\n",
       "      <th>month</th>\n",
       "      <th>year</th>\n",
       "      <th>day</th>\n",
       "    </tr>\n",
       "    <tr>\n",
       "      <th>ride_id</th>\n",
       "      <th></th>\n",
       "      <th></th>\n",
       "      <th></th>\n",
       "      <th></th>\n",
       "      <th></th>\n",
       "      <th></th>\n",
       "      <th></th>\n",
       "      <th></th>\n",
       "      <th></th>\n",
       "      <th></th>\n",
       "      <th></th>\n",
       "    </tr>\n",
       "  </thead>\n",
       "  <tbody>\n",
       "    <tr>\n",
       "      <th>1442</th>\n",
       "      <td>Mpesa</td>\n",
       "      <td>2017-10-17</td>\n",
       "      <td>07:15:00</td>\n",
       "      <td>Migori</td>\n",
       "      <td>Nairobi</td>\n",
       "      <td>Bus</td>\n",
       "      <td>49</td>\n",
       "      <td>1.0</td>\n",
       "      <td>10</td>\n",
       "      <td>2017</td>\n",
       "      <td>17</td>\n",
       "    </tr>\n",
       "    <tr>\n",
       "      <th>5437</th>\n",
       "      <td>Mpesa</td>\n",
       "      <td>2017-11-19</td>\n",
       "      <td>07:12:00</td>\n",
       "      <td>Migori</td>\n",
       "      <td>Nairobi</td>\n",
       "      <td>Bus</td>\n",
       "      <td>49</td>\n",
       "      <td>1.0</td>\n",
       "      <td>11</td>\n",
       "      <td>2017</td>\n",
       "      <td>19</td>\n",
       "    </tr>\n",
       "    <tr>\n",
       "      <th>5710</th>\n",
       "      <td>Mpesa</td>\n",
       "      <td>2017-11-26</td>\n",
       "      <td>07:05:00</td>\n",
       "      <td>Keroka</td>\n",
       "      <td>Nairobi</td>\n",
       "      <td>Bus</td>\n",
       "      <td>49</td>\n",
       "      <td>1.0</td>\n",
       "      <td>11</td>\n",
       "      <td>2017</td>\n",
       "      <td>26</td>\n",
       "    </tr>\n",
       "    <tr>\n",
       "      <th>5777</th>\n",
       "      <td>Mpesa</td>\n",
       "      <td>2017-11-27</td>\n",
       "      <td>07:10:00</td>\n",
       "      <td>Homa Bay</td>\n",
       "      <td>Nairobi</td>\n",
       "      <td>Bus</td>\n",
       "      <td>49</td>\n",
       "      <td>5.0</td>\n",
       "      <td>11</td>\n",
       "      <td>2017</td>\n",
       "      <td>27</td>\n",
       "    </tr>\n",
       "    <tr>\n",
       "      <th>5778</th>\n",
       "      <td>Mpesa</td>\n",
       "      <td>2017-11-27</td>\n",
       "      <td>07:12:00</td>\n",
       "      <td>Migori</td>\n",
       "      <td>Nairobi</td>\n",
       "      <td>Bus</td>\n",
       "      <td>49</td>\n",
       "      <td>31.0</td>\n",
       "      <td>11</td>\n",
       "      <td>2017</td>\n",
       "      <td>27</td>\n",
       "    </tr>\n",
       "  </tbody>\n",
       "</table>\n",
       "</div>"
      ],
      "text/plain": [
       "        payment_method travel_date travel_time travel_from travel_to car_type  \\\n",
       "ride_id                                                                         \n",
       "1442             Mpesa  2017-10-17    07:15:00      Migori   Nairobi      Bus   \n",
       "5437             Mpesa  2017-11-19    07:12:00      Migori   Nairobi      Bus   \n",
       "5710             Mpesa  2017-11-26    07:05:00      Keroka   Nairobi      Bus   \n",
       "5777             Mpesa  2017-11-27    07:10:00    Homa Bay   Nairobi      Bus   \n",
       "5778             Mpesa  2017-11-27    07:12:00      Migori   Nairobi      Bus   \n",
       "\n",
       "         max_capacity  number_of_seats_y  month  year  day  \n",
       "ride_id                                                     \n",
       "1442               49                1.0     10  2017   17  \n",
       "5437               49                1.0     11  2017   19  \n",
       "5710               49                1.0     11  2017   26  \n",
       "5777               49                5.0     11  2017   27  \n",
       "5778               49               31.0     11  2017   27  "
      ]
     },
     "execution_count": 154,
     "metadata": {},
     "output_type": "execute_result"
    }
   ],
   "source": [
    "# data set for EDA, need further processing for analysis\n",
    "train_eda = train_proc\n",
    "train_eda.head()"
   ]
  },
  {
   "cell_type": "code",
   "execution_count": 163,
   "id": "3197e359",
   "metadata": {},
   "outputs": [],
   "source": [
    "train_eda[\"weekday_num\"] = train_eda[\"travel_date\"].apply(lambda x: x.weekday())"
   ]
  },
  {
   "cell_type": "code",
   "execution_count": 164,
   "id": "cacfeaf7",
   "metadata": {},
   "outputs": [
    {
     "data": {
      "text/html": [
       "<div>\n",
       "<style scoped>\n",
       "    .dataframe tbody tr th:only-of-type {\n",
       "        vertical-align: middle;\n",
       "    }\n",
       "\n",
       "    .dataframe tbody tr th {\n",
       "        vertical-align: top;\n",
       "    }\n",
       "\n",
       "    .dataframe thead th {\n",
       "        text-align: right;\n",
       "    }\n",
       "</style>\n",
       "<table border=\"1\" class=\"dataframe\">\n",
       "  <thead>\n",
       "    <tr style=\"text-align: right;\">\n",
       "      <th></th>\n",
       "      <th>payment_method</th>\n",
       "      <th>travel_date</th>\n",
       "      <th>travel_time</th>\n",
       "      <th>travel_from</th>\n",
       "      <th>travel_to</th>\n",
       "      <th>car_type</th>\n",
       "      <th>max_capacity</th>\n",
       "      <th>number_of_seats_y</th>\n",
       "      <th>month</th>\n",
       "      <th>year</th>\n",
       "      <th>day</th>\n",
       "      <th>weekday</th>\n",
       "      <th>weekday_num</th>\n",
       "    </tr>\n",
       "    <tr>\n",
       "      <th>ride_id</th>\n",
       "      <th></th>\n",
       "      <th></th>\n",
       "      <th></th>\n",
       "      <th></th>\n",
       "      <th></th>\n",
       "      <th></th>\n",
       "      <th></th>\n",
       "      <th></th>\n",
       "      <th></th>\n",
       "      <th></th>\n",
       "      <th></th>\n",
       "      <th></th>\n",
       "      <th></th>\n",
       "    </tr>\n",
       "  </thead>\n",
       "  <tbody>\n",
       "    <tr>\n",
       "      <th>1442</th>\n",
       "      <td>Mpesa</td>\n",
       "      <td>2017-10-17</td>\n",
       "      <td>07:15:00</td>\n",
       "      <td>Migori</td>\n",
       "      <td>Nairobi</td>\n",
       "      <td>Bus</td>\n",
       "      <td>49</td>\n",
       "      <td>1.0</td>\n",
       "      <td>10</td>\n",
       "      <td>2017</td>\n",
       "      <td>17</td>\n",
       "      <td>Tues</td>\n",
       "      <td>1</td>\n",
       "    </tr>\n",
       "    <tr>\n",
       "      <th>5437</th>\n",
       "      <td>Mpesa</td>\n",
       "      <td>2017-11-19</td>\n",
       "      <td>07:12:00</td>\n",
       "      <td>Migori</td>\n",
       "      <td>Nairobi</td>\n",
       "      <td>Bus</td>\n",
       "      <td>49</td>\n",
       "      <td>1.0</td>\n",
       "      <td>11</td>\n",
       "      <td>2017</td>\n",
       "      <td>19</td>\n",
       "      <td>Sun</td>\n",
       "      <td>6</td>\n",
       "    </tr>\n",
       "    <tr>\n",
       "      <th>5710</th>\n",
       "      <td>Mpesa</td>\n",
       "      <td>2017-11-26</td>\n",
       "      <td>07:05:00</td>\n",
       "      <td>Keroka</td>\n",
       "      <td>Nairobi</td>\n",
       "      <td>Bus</td>\n",
       "      <td>49</td>\n",
       "      <td>1.0</td>\n",
       "      <td>11</td>\n",
       "      <td>2017</td>\n",
       "      <td>26</td>\n",
       "      <td>Sun</td>\n",
       "      <td>6</td>\n",
       "    </tr>\n",
       "    <tr>\n",
       "      <th>5777</th>\n",
       "      <td>Mpesa</td>\n",
       "      <td>2017-11-27</td>\n",
       "      <td>07:10:00</td>\n",
       "      <td>Homa Bay</td>\n",
       "      <td>Nairobi</td>\n",
       "      <td>Bus</td>\n",
       "      <td>49</td>\n",
       "      <td>5.0</td>\n",
       "      <td>11</td>\n",
       "      <td>2017</td>\n",
       "      <td>27</td>\n",
       "      <td>Mon</td>\n",
       "      <td>0</td>\n",
       "    </tr>\n",
       "    <tr>\n",
       "      <th>5778</th>\n",
       "      <td>Mpesa</td>\n",
       "      <td>2017-11-27</td>\n",
       "      <td>07:12:00</td>\n",
       "      <td>Migori</td>\n",
       "      <td>Nairobi</td>\n",
       "      <td>Bus</td>\n",
       "      <td>49</td>\n",
       "      <td>31.0</td>\n",
       "      <td>11</td>\n",
       "      <td>2017</td>\n",
       "      <td>27</td>\n",
       "      <td>Mon</td>\n",
       "      <td>0</td>\n",
       "    </tr>\n",
       "  </tbody>\n",
       "</table>\n",
       "</div>"
      ],
      "text/plain": [
       "        payment_method travel_date travel_time travel_from travel_to car_type  \\\n",
       "ride_id                                                                         \n",
       "1442             Mpesa  2017-10-17    07:15:00      Migori   Nairobi      Bus   \n",
       "5437             Mpesa  2017-11-19    07:12:00      Migori   Nairobi      Bus   \n",
       "5710             Mpesa  2017-11-26    07:05:00      Keroka   Nairobi      Bus   \n",
       "5777             Mpesa  2017-11-27    07:10:00    Homa Bay   Nairobi      Bus   \n",
       "5778             Mpesa  2017-11-27    07:12:00      Migori   Nairobi      Bus   \n",
       "\n",
       "         max_capacity  number_of_seats_y  month  year  day weekday  \\\n",
       "ride_id                                                              \n",
       "1442               49                1.0     10  2017   17    Tues   \n",
       "5437               49                1.0     11  2017   19     Sun   \n",
       "5710               49                1.0     11  2017   26     Sun   \n",
       "5777               49                5.0     11  2017   27     Mon   \n",
       "5778               49               31.0     11  2017   27     Mon   \n",
       "\n",
       "         weekday_num  \n",
       "ride_id               \n",
       "1442               1  \n",
       "5437               6  \n",
       "5710               6  \n",
       "5777               0  \n",
       "5778               0  "
      ]
     },
     "execution_count": 164,
     "metadata": {},
     "output_type": "execute_result"
    }
   ],
   "source": [
    "train_eda[\"weekday\"] = train_eda[\"weekday_num\"].replace({0:\"Mon\", 1:\"Tues\", 2:\"Wed\", 3:\"Thurs\", 4:\"Fri\", 5:\"Sat\", 6:\"Sun\"})\n",
    "train_eda.head()"
   ]
  },
  {
   "cell_type": "code",
   "execution_count": 171,
<<<<<<< HEAD
   "id": "26de2fd5",
=======
   "id": "e825e03b",
>>>>>>> c2bc8c6575e733a6b149f8c35b55d03a41571fe1
   "metadata": {},
   "outputs": [],
   "source": [
    "train_eda = train_eda.drop(columns=\"payment_method\")"
   ]
  },
  {
   "cell_type": "code",
   "execution_count": 173,
<<<<<<< HEAD
   "id": "9fb33005",
=======
   "id": "d7cb0f7d",
>>>>>>> c2bc8c6575e733a6b149f8c35b55d03a41571fe1
   "metadata": {},
   "outputs": [
    {
     "data": {
      "text/html": [
       "<div>\n",
       "<style scoped>\n",
       "    .dataframe tbody tr th:only-of-type {\n",
       "        vertical-align: middle;\n",
       "    }\n",
       "\n",
       "    .dataframe tbody tr th {\n",
       "        vertical-align: top;\n",
       "    }\n",
       "\n",
       "    .dataframe thead th {\n",
       "        text-align: right;\n",
       "    }\n",
       "</style>\n",
       "<table border=\"1\" class=\"dataframe\">\n",
       "  <thead>\n",
       "    <tr style=\"text-align: right;\">\n",
       "      <th></th>\n",
       "      <th>travel_date</th>\n",
       "      <th>travel_time</th>\n",
       "      <th>travel_from</th>\n",
       "      <th>travel_to</th>\n",
       "      <th>car_type</th>\n",
       "      <th>max_capacity</th>\n",
       "      <th>number_of_seats_y</th>\n",
       "      <th>month</th>\n",
       "      <th>year</th>\n",
       "      <th>day</th>\n",
       "      <th>weekday</th>\n",
       "      <th>weekday_num</th>\n",
       "    </tr>\n",
       "    <tr>\n",
       "      <th>ride_id</th>\n",
       "      <th></th>\n",
       "      <th></th>\n",
       "      <th></th>\n",
       "      <th></th>\n",
       "      <th></th>\n",
       "      <th></th>\n",
       "      <th></th>\n",
       "      <th></th>\n",
       "      <th></th>\n",
       "      <th></th>\n",
       "      <th></th>\n",
       "      <th></th>\n",
       "    </tr>\n",
       "  </thead>\n",
       "  <tbody>\n",
       "    <tr>\n",
       "      <th>1442</th>\n",
       "      <td>2017-10-17</td>\n",
       "      <td>07:15:00</td>\n",
       "      <td>Migori</td>\n",
       "      <td>Nairobi</td>\n",
       "      <td>Bus</td>\n",
       "      <td>49</td>\n",
       "      <td>1.0</td>\n",
       "      <td>10</td>\n",
       "      <td>2017</td>\n",
       "      <td>17</td>\n",
       "      <td>Tues</td>\n",
       "      <td>1</td>\n",
       "    </tr>\n",
       "    <tr>\n",
       "      <th>5437</th>\n",
       "      <td>2017-11-19</td>\n",
       "      <td>07:12:00</td>\n",
       "      <td>Migori</td>\n",
       "      <td>Nairobi</td>\n",
       "      <td>Bus</td>\n",
       "      <td>49</td>\n",
       "      <td>1.0</td>\n",
       "      <td>11</td>\n",
       "      <td>2017</td>\n",
       "      <td>19</td>\n",
       "      <td>Sun</td>\n",
       "      <td>6</td>\n",
       "    </tr>\n",
       "    <tr>\n",
       "      <th>5710</th>\n",
       "      <td>2017-11-26</td>\n",
       "      <td>07:05:00</td>\n",
       "      <td>Keroka</td>\n",
       "      <td>Nairobi</td>\n",
       "      <td>Bus</td>\n",
       "      <td>49</td>\n",
       "      <td>1.0</td>\n",
       "      <td>11</td>\n",
       "      <td>2017</td>\n",
       "      <td>26</td>\n",
       "      <td>Sun</td>\n",
       "      <td>6</td>\n",
       "    </tr>\n",
       "    <tr>\n",
       "      <th>5777</th>\n",
       "      <td>2017-11-27</td>\n",
       "      <td>07:10:00</td>\n",
       "      <td>Homa Bay</td>\n",
       "      <td>Nairobi</td>\n",
       "      <td>Bus</td>\n",
       "      <td>49</td>\n",
       "      <td>5.0</td>\n",
       "      <td>11</td>\n",
       "      <td>2017</td>\n",
       "      <td>27</td>\n",
       "      <td>Mon</td>\n",
       "      <td>0</td>\n",
       "    </tr>\n",
       "    <tr>\n",
       "      <th>5778</th>\n",
       "      <td>2017-11-27</td>\n",
       "      <td>07:12:00</td>\n",
       "      <td>Migori</td>\n",
       "      <td>Nairobi</td>\n",
       "      <td>Bus</td>\n",
       "      <td>49</td>\n",
       "      <td>31.0</td>\n",
       "      <td>11</td>\n",
       "      <td>2017</td>\n",
       "      <td>27</td>\n",
       "      <td>Mon</td>\n",
       "      <td>0</td>\n",
       "    </tr>\n",
       "  </tbody>\n",
       "</table>\n",
       "</div>"
      ],
      "text/plain": [
       "        travel_date travel_time travel_from travel_to car_type  max_capacity  \\\n",
       "ride_id                                                                        \n",
       "1442     2017-10-17    07:15:00      Migori   Nairobi      Bus            49   \n",
       "5437     2017-11-19    07:12:00      Migori   Nairobi      Bus            49   \n",
       "5710     2017-11-26    07:05:00      Keroka   Nairobi      Bus            49   \n",
       "5777     2017-11-27    07:10:00    Homa Bay   Nairobi      Bus            49   \n",
       "5778     2017-11-27    07:12:00      Migori   Nairobi      Bus            49   \n",
       "\n",
       "         number_of_seats_y  month  year  day weekday  weekday_num  \n",
       "ride_id                                                            \n",
       "1442                   1.0     10  2017   17    Tues            1  \n",
       "5437                   1.0     11  2017   19     Sun            6  \n",
       "5710                   1.0     11  2017   26     Sun            6  \n",
       "5777                   5.0     11  2017   27     Mon            0  \n",
       "5778                  31.0     11  2017   27     Mon            0  "
      ]
     },
     "execution_count": 173,
     "metadata": {},
     "output_type": "execute_result"
    }
   ],
   "source": [
    "train_eda.head()"
   ]
  },
  {
   "cell_type": "code",
   "execution_count": 174,
   "id": "3f621838",
   "metadata": {},
   "outputs": [],
   "source": [
    "train_eda.to_csv(\"train_eda.csv\")"
   ]
  },
  {
   "cell_type": "code",
   "execution_count": 178,
<<<<<<< HEAD
   "id": "247e63f8",
=======
   "id": "0e839fb7",
>>>>>>> c2bc8c6575e733a6b149f8c35b55d03a41571fe1
   "metadata": {},
   "outputs": [
    {
     "data": {
      "text/plain": [
       "78"
      ]
     },
     "execution_count": 178,
     "metadata": {},
     "output_type": "execute_result"
    }
   ],
   "source": [
    "train_eda[\"travel_time\"].nunique()"
   ]
  },
  {
   "cell_type": "code",
   "execution_count": 196,
<<<<<<< HEAD
   "id": "f10721ed",
=======
   "id": "b9b9145d",
>>>>>>> c2bc8c6575e733a6b149f8c35b55d03a41571fe1
   "metadata": {},
   "outputs": [
    {
     "data": {
      "text/plain": [
       "1"
      ]
     },
     "execution_count": 196,
     "metadata": {},
     "output_type": "execute_result"
    }
   ],
   "source": [
    "train_eda[\"travel_to\"].nunique()"
   ]
  },
  {
   "cell_type": "code",
   "execution_count": 179,
<<<<<<< HEAD
   "id": "d0a8f954",
=======
   "id": "1d76c6d5",
>>>>>>> c2bc8c6575e733a6b149f8c35b55d03a41571fe1
   "metadata": {},
   "outputs": [
    {
     "data": {
      "text/plain": [
       "(6249, 12)"
      ]
     },
     "execution_count": 179,
     "metadata": {},
     "output_type": "execute_result"
    }
   ],
   "source": [
    "train_eda.shape"
   ]
  },
  {
   "cell_type": "markdown",
   "id": "e4dd16a0",
   "metadata": {},
   "source": [
    "# EDA"
   ]
  },
  {
   "cell_type": "code",
   "execution_count": 169,
   "id": "b48f5623",
   "metadata": {},
   "outputs": [
    {
     "data": {
      "image/png": "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\n",
      "text/plain": [
       "<Figure size 1260x360 with 1 Axes>"
      ]
     },
     "metadata": {},
     "output_type": "display_data"
    }
   ],
   "source": [
    "sns.displot(train_eda, x='number_of_seats_y', kde = True, aspect = 3.5)\n",
    "plt.title(\"Distribution of the Number of Seats\", size = 20);"
   ]
  },
  {
   "cell_type": "code",
   "execution_count": 170,
   "id": "726f3056",
   "metadata": {},
   "outputs": [
    {
     "data": {
      "image/png": "iVBORw0KGgoAAAANSUhEUgAAAmAAAAGLCAYAAABgAC4MAAAAOXRFWHRTb2Z0d2FyZQBNYXRwbG90bGliIHZlcnNpb24zLjMuNCwgaHR0cHM6Ly9tYXRwbG90bGliLm9yZy8QVMy6AAAACXBIWXMAAAsTAAALEwEAmpwYAABk5UlEQVR4nO3df1xUVf4/8NfgqAkaIGG1qGB9gspfmZVBCkKlKSpQWFqg0WbGSlJqP9f0k0um9sOVNLKtqCw3fxRgruWPRWEMsm/trr8ytx/MiOQqiwwqoDhwv3/wmYkJhjmXuXPvDLyej4ePuvDmfd7nnjtw5syZuTpJkiQQERERkWp8tC6AiIiIqKvhBIyIiIhIZZyAEREREamMEzAiIiIilXECRkRERKQyTsCIiIiIVMYJGJEMr7/+OiIiIpCamgpHn+By5swZW4xWrHXu2rVLsxo6wmKxYPny5bjtttswdOhQTJ48ud14SZKQl5eHGTNmYNSoURgyZAhiYmIwb948fPPNNypV3ezs2bP48MMPFcv36aefIiIiAu+9955iOR2xXi8RERF444032o3NysqyxR4/ftzttQHA3r17ceDAAdvxvn37EBERgRdffFGV9oncgRMwog74+uuvsXnzZq3L6HQ2b96Md999F3369MHMmTNx9913O4xtbGxERkYGnnnmGZw+fRrjx4/Hgw8+iJEjR6KwsBAPPPCA08mEksaPH49Nmzap1p677Ny50+H3JEnCjh07VKwGWL9+PX7/+9/j1KlTqrZL5G56rQsg8lYvv/wyYmNjcdlll2ldSqfx3XffAQAWLVqEqKiodmMLCgqwa9cuzJw5E88++yx0Op3teydPnsR9992HVatWITY2Ftddd51b6waAqqoqBAcHu70ddwoODsZ3332H48ePo3///q2+/89//hMnT56Er68v6urqVKmpqqpKlXaI1MYVMKIOuP7661FTU4OsrCytS+lUGhoaAACBgYFOY/fs2QMAmDFjht3kCwAuv/xypKenA2h/RYfs3X777QDg8KXr7du3o0+fPrjpppvULIuoU+IEjKgDZs2ahUGDBuHzzz/H7t27nca3t58nNTUVEREROHPmDADg+PHjtr04O3bsQFJSEoYNG4a4uDjk5uYCAL799lvcf//9uOGGGxAXF4fXX38dFoulVe7z589j6dKliIyMxA033IDU1FTs27evzRo///xzTJs2DSNGjMCNN96ImTNn4quvvrKLse69Wb9+PebNm4dhw4Zh9OjR+Pbbb9vt/5dffom0tDTceOONGDZsGJKSkvDRRx+hqanJrs95eXkAgMTERERERDisFQAuXrwIAPj3v//d5vfvvPNOZGdnY9KkSXZfb2howNq1azFx4kQMHToUkZGRmD9/PsrLy1vlOH36NJYvX44JEyZg+PDhGD58OOLj4/Hmm2/azrf1nADA999/j4iICLz++usAgNraWixduhR33XWXra2MjAwcPny43fPVkiRJeOONNxATE4Nhw4YhOTkZX3zxhe379fX1uPHGGzF27Ng29yU+++yziIiIgNFodNrWrbfeCn9/f4cvM+7cuRNxcXHo3r17m993Ns5WcXFxSE1NxU8//YRHH30UI0eOxIgRIzBr1ix8//33trjU1FSsXr0aADBnzhzbeW4pLy8PU6ZMwdChQzFmzBi89NJLqK+vd9pXIq1xAkbUAT169EBWVhZ0Oh1eeOEFnDt3TvE2duzYgXnz5uHqq6/Gfffdh9raWixbtgxZWVl48MEHERgYiOnTp0OSJKxevRofffRRqxzLli1DQUEBJk6ciLvuugsHDx5EWlqabfXIatWqVXj88cdx6tQpJCUlISkpCT/++CPS0tJQUFDQKu+aNWtw8OBBpKSk4Prrr8f111/vsB/r1q3DQw89hIMHD+LOO+/EPffcg7Nnz2LJkiWYP38+JEnCpZdeioyMDFx77bUAgPvuuw8ZGRkICQlxmPe2224DACxYsACvvfYajhw5YjcB6du3L8aPH4+rrrrK9rWLFy9i1qxZeO211+Dn54eUlBSMGTMGO3bsQHJyst1k7uzZs7j33nvxwQcf4H/+538wY8YMTJo0CZWVlVi5ciVeffVVAEBISAgyMjIAAJdddhkyMjJwyy23AAAef/xxvP/++wgLC8PMmTMRExOD4uJiPPDAA/j5558d9q2ld955B2vXrsWYMWOQmJiI8vJyZGZm4q9//SsAoFevXhg/fjxOnDjR6o0HFy5cwI4dO3DDDTcgLCzMaVvdu3dHbGws/vnPf+K///2v3fcOHDiAiooK3HXXXW3+rMg4t3TixAlMnz4dVVVVuPfeezFq1CgUFxdjxowZtsdTUlKS7VxOnDjRdp6t/va3v+H555/HNddcgwceeAB+fn5477338OSTTzrtK5HmJCISlp2dLYWHh0s7d+6UJEmSnn/+eSk8PFz605/+ZIupqamRwsPDpZSUFNvXPvnkEyk8PFzKzc1tlTMlJUUKDw+XampqJEmSpPLycik8PNyuHUmSJIPBYPv6hx9+aPu6NT45OblVnTfffLNUXl5u+/rhw4el4cOHS2PHjpUsFoskSZK0f/9+KSIiQkpJSZHq6upssadPn5buvPNOafjw4VJVVZUkSZL01VdfSeHh4dLw4cOlU6dOOT1fx44dk66//npp7Nix0rFjx2xfr62tlWbMmCGFh4dLeXl5tq8//fTTUnh4uPTdd985zX3x4kVp9uzZtnMSHh4u3XLLLdKcOXOkjz/+2FZzS3/5y1+k8PBwacWKFVJTU5Pt6wcOHJAGDx4s3XPPPbavrV27VgoPD5c2btxol+OXX36RhgwZIt122212Xw8PD5emTJliOz569KgUHh4uPfXUU3Zxn3/+uRQeHi4tW7as3f5Zr5nrr79eOnjwoO3r5eXl0m233SbdcMMNtmumtLRUCg8PlxYtWmSXY9u2ba2ul7a0vK537dolhYeHSx9//LFdzPLly6Ubb7xRunDhgpSeni6Fh4fbri254xwbGyuFh4dLL7zwgt04LFy4UAoPD5c2bdrUZm1W1uvwuuuuk/7f//t/tq/X1dVJo0ePliIiIqTTp0+322cirXEFjMgFTz75JIKDg/HRRx/hX//6l6K5Q0JCcMcdd9iOb7zxRgCAr68vpk2bZvt6//79cdlll6GioqJVjhkzZthtpr7++usxZcoU/PLLL7bVks2bN0OSJDz11FPo1auXLTYwMBCzZs1CfX09Pv/8c7u8I0eOFNpwvmXLFlgsFsyZMwcDBgywfd3X1xcLFy4EAHzyySdO87RFr9cjJycHK1aswE033QQfHx+YzWbs3LkTixYtwu23397qJd/NmzejT58+ePzxx+32jQ0dOtS2QvjDDz8AAEaPHo0XXngBiYmJdjmuvPJKDBgwAKdPn263PuvLbj/++CPMZrPt63fccQd27dqFBQsWCPVzypQpGDJkiO24f//+mDFjBurq6mx7tUaNGoWQkBB88cUXtpdmgebz3717d0ycOFGoLaC5376+vq1ehtyxYwfi4uLQo0ePVj/T0XGeNWuW3TjExMQAgNDLpQBw88032+1H69WrF2699VZIktTm44HIk/BdkEQu6NOnD55//nnMnTsXzz//PD799FPFcoeGhtod+/r6AgCuuOIKdOvWze57PXv2tO0ha8k6aWtp2LBh2LBhA77//nuMGjXKth9px44drV6a/M9//gMAOHLkiN3X23tpsCXrfp6bb7651feuueYaXHrppXZ7fuTS6XRISEhAQkICzGYzvv76a5SUlKCwsBAnT57ESy+9hB49euD+++9HbW0tysrKEBwcjDfffLNVLutLbkeOHME111xje2m1trYW+/fvh8lkgtFoxMGDB2EymdDY2NhubRERERgxYgT++c9/IiYmBrfccguio6MRGxtrN0lxpq0xHDp0KIBfz69Op8PkyZPx5ptv4ssvv8TYsWNhNpthMBgQHR0t9KYGq549e2Ls2LHYuXMnzp49iz59+uDw4cMoLy/Hs88+2+bPdGSce/bsiSuvvNLua7179wbw65sxnPntYwQAAgICAEC1d2kSdRQnYEQuGj9+PG6//Xb8/e9/x9tvv40HHnhAkbwtV6NaamsFwpGgoKBWX/Pz8wPw6x+os2fPAgDeeusth3lqamrsjnv27CnUvnUvT58+fdr8fr9+/WAymYRyORMQEIBx48Zh3Lhx+OMf/4i1a9fi9ddfx1/+8hfcf//9tloqKyttG7vbYu3rhQsX8Nprr2HDhg22Td2XX345br75ZgQGBqKysrLdenQ6Hd555x28/fbb2LJlC4qLi1FcXIysrCxERUXhT3/6U5sf9fBbImMINL9x4c0338TWrVsxduxYfP7557h48SISEhKctvFb48aNw7Zt27B7925MmTIF27dvh5+fH8aMGdNmfEfGua3r2LoaJjn4kOPfau86FM1BpBVOwIgUsHjxYuzbtw9vvPGGbXN4S7/9mISW3PmOLevkqiXrB1r6+/sDaF5Z69atG/bv3+/w3W0dZZ0onDp1Cn379m31/ZqaGtuKhRw//fQTHnnkEdvLhL/VvXt3ZGRkYOvWrSgrK0NDQ4NtBfGmm25q8w0Lv7Vs2TKsX78e48ePxwMPPICIiAhbrRMmTHA6AQOa+5+ZmYnMzEyUlZXhyy+/xGeffYaSkhI88cQTQh/c2tbK5m/HEAAGDRqEG264AX//+9/R0NCAzz//HP7+/oiNjXXaxm/FxMTgkksuwc6dO20TsNjYWIeTf3eNM1Fnxj1gRAq4/PLLMW/ePDQ0NGDx4sWtvm+d2NTW1tp9XZKkNj/+QCkHDx5s9TXrXjXrvqKIiAg0Nja2epkRaP7gzVdeeaXDt/WxvquxrZ83mUyorKzENddcIztvcHAwTp48aZtsOCJJEgICAtCjRw/06dMHv/vd7/Djjz/i/PnzrWLz8/Px+uuv226vs3XrVgQFBWHVqlUYNWqUbQJx/vx5/PLLL7b8jnz//fdYvny57XwPGjQIKSkpWL9+PcLCwnDgwAGhl9oOHTrU6mvWnIMHD7b7ekJCgm1v2D/+8Q/cddddslZMrXx9fTF69GgYDAYcOHAARqMREyZMcBjvrnEG2n/yQuTNOAEjUsj999+PESNG2D7NvSXrRyEYDAa7vUPr16+326CttHXr1tltFv/mm2/wxRdf4JprrsGwYcMANL/VHwCWLl1q93Ea586dw//+7//iL3/5i9P9To4kJCRAr9fjzTfftJto1tXVYcmSJbYYuS699FJMnjwZlZWVmD9/fpsrfR999BGMRqPd7YySkpJgNpvxyiuv2H021Y8//oglS5YgNzfXNtHq2bMnLly4YLcC1djYiBdffNE2gWu54b179+52xw0NDXj33Xfxxhtv2E3Uzp07h5qaGgQHBwtNjvLz8+1evvvpp5+wfv16BAYGIi4uzi42Pj4e3bt3xyuvvNLhlx+txo0bh/r6erz44ovw9fV1+PIj4L5xBprfbAGI7wsj8hZ8CZJIITqdDllZWUhMTLT7Qww0v/tw8ODB+Oc//4n7778fN998M/7973+jtLQUw4cPx/79+91Sk16vR0JCAiZOnIiqqip88cUXuOSSS/DSSy/ZYm699VakpqZi3bp1iI+PR0xMDHr06IFdu3bhxIkTmDZtGkaNGtWh9gcMGICnn34aL774IpKSknDHHXfA19cXxcXFKC8vR3x8fKt3GYpauHAhTCYTduzYga+++grR0dEICQlBXV0dvvnmGxw5cgQjR45EZmam7WceeeQR7N27F+vWrcO3336LW265BWfOnMEXX3yB+vp6vPzyy7aN4JMnT8a7776Le+65B3fccQcsFgv27t2LsrIy9O3bF6dPn4bZbEa/fv0ANO9z+vnnn7F48WLExMQgLi4O48ePx/bt25GUlIRbb70VFosFu3btQnV1tfCNpPv27YupU6di0qRJOH/+PLZv344LFy7g1VdfxSWXXGIX6+/vj7i4OGzfvh0DBgzAyJEjO3RuAdg+cPVf//oXJk2a1O5+K3eO8+WXXw4AyMnJwZEjR1p9FhiRt+IEjEhB//M//4NHHnkEa9asafW9tWvX4tVXX8Xu3btx9OhRDBkyBO+//z4+//xzt03Ali5dioKCAnz66aewWCy47bbbMH/+fISHh9vFLVy4EEOHDsVf//pXbNmyBd26dcOgQYPw2GOP2VbIOmrGjBkICwvDO++8gx07dkCSJFx99dWYPXs2kpOTO5zXz88PH374IfLy8vD5559j3759MJvN8PX1xdVXX41FixZh2rRpdu8YveSSS/DBBx/g7bffxrZt27B+/Xr06dMHN954I2bPnm370E8AeOKJJ+Dn54ctW7Zg/fr16Nu3L66++mosXLgQP/30E5YuXYqioiJMnToVQPP9K7OysvDJJ5/AYrEgLi4OK1aswJAhQ/DZZ59hw4YN0Ol0GDx4MBYtWtRq9cqRxx9/HN999x0+/fRT1NbWYtiwYcjMzHR4O6C77roL27dvx5QpUzp8boHmDfWRkZEoLi7G+PHjnca7a5wnTpyIoqIi7NmzB+vXr3f5eiTyFDqJbxUhIuo0XnvtNaxduxY7duxo82MaiMgzcA8YEVEn8Z///AebN2/GqFGjOPki8nB8CZKIyMtt2bIF7777LoxGI86fP4/HHntM65KIyAlOwIiIvNwVV1yBEydOoHfv3njuuefa/ER6IvIs3ANGREREpDLuASMiIiJSGSdgRERERCrzuj1g1dW1aGqS/6ppUFBvVFWdcx5IquPYeDaOj2fj+Hgujo1nc/f4+PjoEBjo5/D7XjcBa2qSOjQBs/6sUtaty4XJVKZYPi3V1JgBAP7+AZq036OHHg0NFqHY0NBBSE1Nc3NF9FtKPnZIeRwfz8Wx8Wxajo/XTcA8hclUhmM//oCB/n21LsVl5prmewX6N3Tsfn+uEr3D27Ga086DiIiIvAAnYC4Y6N8XC8eM07oMl2UZdgCAx/fFWicREZG34yZ8IiIiIpVxAkZERESkMk7AWjAY9sBg2KNpDUQkj8HAxy0ReR/uAWuhqKgQADBmzFhtCyEiYXzcEpE34goYERERkco0m4CdO3cOkyZNwvHjx7UqgYi6GKOxDLNmzcCxY0ZF4qqrq5GVtQhmc7XTtktL9yIlJRn79pUoltNoLENSUpLTOjdsWI+UlGRs2vSxInEAcPDgfqSm3ovDhw84rVHkXMoh2rbouZRTo2jO6upqLFiwQGgcRclpW/QaUpo7HhOdlSYTsP3792P69OkwGo1aNE9EXVROzirU19dhzZpVisTl52/C0aNHkJe32Wnba9eu/r/c2YrlzMlZhbo653V+9tmnAICCgvZzisYBwOrVr0GSmpCd/arTGkXOpRyibYueSzk1iubMz9+EQ4cOCY2jKDlti15DSnPHY6Kz0mQCtnHjRixevBj9+vXTonki6oKMxjJUVDSvuFdUlDtc7RCNq66uRnHxbkiShOLi3e0+4y8t3QuLpfluDxaLxeEzfjk5RevcsGG93bGj1S3ROKB5Baq2thYAUFtb63AlSrRGOUTbFj2XcmoUzSlnHEVp2bbSNQLij4nOTJNN+C+++KIWzTpVU2OG2WxGVtYip7EmkxEB3fgeBjXVXKiH2WQUGh9SjpxbRWnBZDIiICDAaVxOjv3qxpo1q7B8+coOx+Xnb4IkNd/GRJKakJe3GWlps9ps2/pM/9c2sjFqVJRLOUXrtK5qWRUUbMbUqdM6HAc0r0C1lJ39Ktaufb/DNcoh2rbouZRTo2hOOeMoSsu2la4REH9MdGbchE9EXYJ1lePX43KX4kpKDHbP4EtKih22bY1zdNyRnKJ1uoN1BcrRsZU7ahRtW/RcyqlRNKeccRSlZdtK12j9fnvHXQGXcFrw9w+Av38AFi5c4jQ2K2sRUFmlQlVk5d+zF/yDg4TGh5QTHNwHlZVntS7DIdEV0ZCQ/nZ/bENCBrgUFxU1BkVFhbBYLNDr9YiKinbYtl6vt/sDo9e3/atXTk7ROt3Bz8/PbuLj5+fXZpw7ahRtW/RcyqlRNKeccRSlZdtK1wiIPyY6M66AEVGXkJ6eaXc8Z06mS3GJiVOh0+kAADqdD5KSkh22PXt2xm/amOtyTtE6J0++2+44IaHtnKJxAJCRMc/ueO7c+S7VKIdo26LnUk6NojnljKMoLdtWukZA/DHRmXECRkRdQljYIISE9AfQvMoxcGCYS3GBgYGIjo6FTqdDdHQsAgICHbYdGTna9gxfr9c73OsiJ6donffdd7/dsaN9XaJxADB06HDbypOfnx8GDx7mUo1yiLYtei7l1CiaU844itKybaVrBMQfE52ZphOwwsJC9O/fX8sSiKgLSU/PRK9evk5XYkTjEhOnIiLiOqFVBuszfmfP9OXkTE/PhK+v8zqtq1vtrWrJiQOaV6J0Oh+HK1AtaxQ5l3KIti16LuXUKJozMXEqhgwZougKlJy2Ra8hpbnjMdFZ6STrWxa8RFXVOTQ1yS9ZZB+LwbAHgNgtTax7wBaOGSe7Fk+TZdgBAB7flyzDDoB7wFTn6XvADIY9ALrurYg8fXy6Mo6NZ3P3+Pj46BAU1Nvh97verrd2dNVf4ETejI9bIvJG3ANGREREpDJOwIiIiIhUxgkYERERkcq4B8wFx2pO2zawezNTzWkA8Pi+HKs5jYHBQVqXQURE5DJOwDooNHSQ1iUoJqBHt+b/8Q/QpH3Rew0ODA7qVOediIi6Lk7AOig1NU3rEjoNvlWbiIi6Gu4BIyIiIlIZJ2BEREREKuNLkB20bl0uTKYyrctQRE2NGQDg7+F7wIDmvXd8+ZeIiLwdJ2AdZDKVwfTjdxhwaTetS3GZ+UwjAKDPhZOatH9eMK78/+okIiLydpyAuWDApd3wZKSv1mW47OXSOgDw+L5Y6yQiIvJ23ANGREREpDJOwIiIiIhUxglYCwbDHhgMezStgYjkMRj4uCUi78M9YC0UFRUCAMaMGattIUQkjI9bIvJGXAEjIiIiUpkmE7DVq1cjPj4e8fHxWLFihRYlEFEXVFq6Fykpydi3r6TduIMH9yM19V4cPnyg3bgNG9YjJSUZmzZ97LRt0ZyicdbYCRMmKFan6PmRU2d1dTWyshbBbK5uN85oLMOsWTNw7JjRadty6hQhWqPcnAsWLFA0pyg551KU6DmSc/0qXac7xtGdVJ+AlZSUYO/evcjLy0N+fj4OHz6MnTt3ql0GEXVBa9euBgDk5GS3G7d69WuQpCZkZ7/abtxnn30KACgo2Oy0bdGconHW2KYm5eoUPT9y6szP34SjR48gL6/9tnNyVqG+vg5r1qxy2racOkWI1ig356FDhxTNKUrOuRQleo7kXL9K1+mOcXQn1SdgwcHBeOaZZ9CjRw90794dV199NX755Re1yyCiLqa0dC8sluY7LlgsFoerJwcP7kdtbS0AoLa21uEz+Q0b1tsdt7e6JJpTNM4ddYqeHzltV1dXo7h4NyRJQnHxbocrE0ZjGSoqjgMAKirK210RkVOnCNEatc4pSs65FCXaHznXr9J1annOO0onSZKkVeNGoxHTp0/HX//6V4SFhQn9TFXVOTQ1yS85OLgPKivPthvz5JNzYTabERrqvBaTyQh/n3r8aWxv2bV4Gm/5INbn95xDTVMvofEh5ci5VZQWTCYjAgIC8PLL7a+GPPjgNNsfbgDQ6/V4773Wk5HZs2fa/ogAgJ+fH9aufb9VXEpKcquvffhh28+8RXOKxrmjTtHzI6ft3Ny3UFRUCIvFAr1ej5iY25GWNqtV3NNPP277YwwAISEDsHz5yjbbllOnCNEatc4pSs65FCXaHznXr9J1duSci8wLXOHjo0NQkOM5gmab8H/44Qc89NBDeOqpp4QnX0REHdXyj3Zbx1Yt/4C0ddwRojnltK10naLnR07bJSUGu9WqkpLiNuNa/iFuPi5XpE4RojVqnVOUnHMpSrQ/cq5JpevU8px3lCYfQ/Htt99i7ty5eO655xAfH69FCW3y9w+Av38AFi5c4jQ2K2sRmk4dVaEqsrq0pw8C+oUJjQ8px93PEl2VlbVIKE6v17daOWmLn59fq2fxrhLNKadtpesUPT9y2o6KGmO3KhEVFd1mXEhI/1arIUrUKUK0Rq1zipJzLkWJ9kfONal0nVqe845SfQXsxIkTmDNnDl555RWPmnwRUec2e3aG3XF6+tw24zIy5tkdz507v824yZPvtjtOSGj9Up/cnKJx7qhT9PzIaTsxcSp0Oh0AQKfzQVJS222np2faHc+Zk9lmnNw6RYjWqHVOUXLOpSjR/si5fpWuU8tz3lGqT8DeeecdXLhwAcuWLUNCQgISEhLw17/+Ve0yiKiLiYwcbVst0ev1GDUqqs24oUOH2565+/n5YfDgYW3G3Xff/XbHU6dOc9i2aE7ROHfUKXp+5LQdGBiI6OhY6HQ6REfHIiAgsM24sLBBCAnpD6B5JWTgwDCHbcupU4RojVrnFCXnXIoS7Y+c61fpOrU85x2l+gRs4cKF+Oc//4mCggLbv+nTp6tdBhF1QdbVE2erJhkZ86DT+bT7DB74dXWpvdUvuTlF46yxPj7K1Sl6fuTUmZg4FRER1zldkUhPz0SvXr5CKyFy6hQhWqPcnEOGDNFkJUbOuRQleo7kXL9K1+mOcXQnTd8F2RHufBekwbAHgNgtTax7wDz9nYMivOVdkC+X1sGnXwT3gKnM0/eAGQx7AHTdWxF5+vh0ZRwbz6b1uyB5L8gWuuovcCJvxsctEXkj3guSiIiISGWcgBERERGpjBMwIiIiIpVxD5gLys802jawe7PyM40A4PF9KT/TiNB+WldBRETkOk7AOig0dJDWJSgmoKcZAODjH6BJ+6L3Ggzt17nOOxERdV2cgHVQamqa1iV0GnyrNhERdTXcA0ZERESkMk7AiIiIiFTGlyBbWLcuFyZTmaI5a2rMAAB/jfZXaSk0dBBfqiUiImoDJ2AtmExlKPvpOwQHKJezytz8326WX5RL6gUqzVpXQERE5Lk4AfuN4ADg3thuiuXbuLv5Ix6UzOkNrP0mIiKi1rgHjIiIiEhlnIARERERqYwTMCIiIiKVcQ9YCzU1Zpw/r3UVRN7HYNgDABgzZqyGVRAReQ9OwFowm81odH5HHCL6jaKiQgCcgBERidLkJchVq1Zh4sSJiI+PR25urhYlEJFGSkv3IiUlGfv2lbQb99Zba5CSkoy3336z3bgtW/KQkpKMrVsLnLZtNJZh1qwZOHbM2G7cwYP7kZp6Lw4fPtBunGhf5MTu2rUdKSnJKCzcKZRz/PjxTnOKti3abzl1irYtOjYAUF1djaysRTCbqxWpUTSfnNjq6mosWLDAaZycfouS0x+lyXlMiI6PO86RJ1B9Avb111/jq6++wpYtW/DJJ59g3bp1+Pnnn9Uug4g0snbtagBATk52u3HFxbsBAHv27Go3buPGjwAAH3+8zmnbOTmrUF9fhzVrVrUbt3r1a5CkJmRnv9punGhf5MS+//7bAIDc3LcUyykaJ9pvOXWKti06NgCQn78JR48eQV7eZkVqFM0nJzY/fxMOHTrkNE5Ov0XJ6Y/S5DwmRMfHHefIE6g+AbvlllvwwQcfQK/Xo6qqCo2NjfD19VW7DCLSQGnpXlgsza/zWywWh8+S33prjd2xo1WwLVvy7I7bWwUzGstQUXEcAFBRUe7w2fTBg/tRW1sLAKitrXW4GiTaFzmxu3ZthyRJAABJktpdGRDNKRon2m85dYq2LTo2QPPqTnHxbkiShOLi3Q5XeURrFM0nJ1Y0Tk6/Rcnpj9LkPCZEx8cd58hT6CTrGVBZdnY23n33Xdx111146aWXoNPphH6uquocmprklxwc3AeVlWfbjZk1awYaLXXISOIHsboq9/NGnLf4IjQ0zGlsjx56NDRw852nEhkfk8mIgIAAvPxy+896H3xwmu0XNADo9Xq8997HreJSUpJbfe3DD1s/mxeNA4Cnn37c9oscAEJCBmD58pWt4mbPnmmbiACAn58f1q59v1WcaF/kxKamTkXLX8k6nQ7r1m1yKadonGi/5dQp2rbo2ADNqyVFRYWwWCzQ6/WIibkdaWmzOlyjaD45saJxcvotSk5/lCbnMSE6Pu44R1Yi8wJX+PjoEBTU2/H33dayE3PnzkVpaSlOnDiBjRs3alUGEamo5S/nto7dqeUv8ebj8jbjWk5C2jq2ktMX0djfPh9u7/mxaE7RONF+y6lTtG3RsQGAkhKD3SpLSUmxSzWK5pMTKxonp9+i5PRHaXIeE6Lj445z5ClUfxfkTz/9hIaGBlx33XXo1asXxo0bh6NHj6pdBrmZ3yXA5UFhWLhwidNYdz8LIdeIjE9W1iKhXHq9vtUzZLWEhPRv9Uy6LX5+fq1Wgtoipy+isTqdrtWqgKs5ReNE+y2nTtG2RccGAKKixtit8ERFRbtUo2g+ObGicXL6LUpOf5Qm5zEhOj7uOEeeQvUVsOPHj2PhwoVoaGhAQ0MD/v73v2PkyJFql0FEGpg9O8PuOD19bptx0dGxdsdjx97RZty99z5gdzxtWqrDttPTM+2O58zJbDMuI2Oe3fHcufPbjBPti5zYmTMftjtOS3vE5ZyicaL9llOnaNuiYwMAiYlTbX+sdTofJCW1fhlaTo2i+eTEisbJ6bcoOf1RmpzHhOj4uOMceQrVJ2AxMTEYO3YsEhMTcc8992DEiBGIj49Xuwwi0kBk5Gjbs2K9Xo9Ro6LajHvkkTl2xw8//GibcVOmJNkdT5qU4LDtsLBBCAnpD6D5WfTAgWFtxg0dOty2+uPn54fBg4e1GSfaFzmxd9wxvsUfTx3i4u50OadonGi/5dQp2rbo2ABAYGAgoqNjodPpEB0di4CAQJdqFM0nJ1Y0Tk6/Rcnpj9LkPCZEx8cd58hTaLIH7LHHHsO2bdvw2Wef4bHHHtOiBCLSiPVZcnvPjoFfV8EcrX5ZWVfB2lv9skpPz0SvXr5On0VnZMyDTufT7ioQIN4XObHWlYH2Vr/k5hSNE+23nDpF2xYdG6B5lSci4jqnqzuiNYrmkxObmDgVQ4YMcRonp9+i5PRHaXIeE6Lj445z5Ak0exdkR7nzXZBPPjkX58/9grQJfBekqzbubkTvoOu5B6wTEBkfg2EPAH4Svhb4+PFcHBvPpvW7IHkrohb8/QPQzfKL1mUQeR1OvIiI5NHsYyiIiIiIuipOwIiIiIhUxgkYERERkcq4B+w3Ks2/bpxXwilz83+VzOkNKs1A7yCtqyAiIvJMnIC1EBo6SPGcjXozAKC3f4DiuT1Z7yD3nE8iIqLOgBOwFlJT07QugYiIiLoA7gEjIiIiUhknYEREREQq40uQLaxblwuTqUzrMpyqqTEDaP7g2M6gRw89GhosQrGhoYP4UjEREXk9TsBaMJnK8NNP38FfvXuXdoi5uvm/Fxu71qf211RrXQEREZEyOAH7Df9AIHqc1lW0r3hH8389vU6lWftNRETk7bgHjIiIiEhlnIARERERqYwTMCIiIiKVcQLWQk2NGefrta6CiLRmMOyBwbBH0xqIqHPjJvwWzGYzLop9GgIRdWJFRYUAgDFjxmpbCBF1WpqugC1fvhzPPPOMliUQEXXYli15SElJxtatBU5jDx7cj9TUe3H48AFF4gDg/fffwfjx47Fu3XuK5Cwt3YuUlGTs21fitO1du7YjJSUZhYU7FWlbjurqamRlLYLZrP5n04i2bTSWISkpCceOGdUprAXRGuWcRzn9njVrhlC/Ra8NLcfbnTSbgJWWliIvL0+r5omIXLZx40cAgI8/Xuc0dvXq1yBJTcjOflWROADYufNzAMD27VsVybl27WoAQE5OttO233//bQBAbu5birQtR37+Jhw9egR5eZsVy6l02zk5q1BXV4c1a1apVNmvRGuUcx7l9Lu+XqzfoteGluPtTppMwMxmM1auXIlHH31Ui+aJiFy2ZYv9E8j2VsEOHtyP2tpaAEBtba3DZ/yicUDz6ldLjlbBRHOWlu6FxdK8B8NisbS7CrZr13ZIkgQAkCTJ4SqYnP6Iqq6uRnHxbkiShOLi3aquioi2bTSWoaLiOACgoqJc1VUw0RrlnEd39Fv02tByvN1Nkz1gixYtwhNPPIETJ05o0Tx5qfP1gMlkRFbWIq1L6VLk3CqqszCZjAgICGg3xrr6ZfXxx+swaVJCm7GrV79md5yd/SrWrn2/w3HAr6tfVtu3b0Vq6oMdzmld/bLKycnGqFFRbbZtXf2yys19C3Fxd3a4bTny8ze1mPw1IS9vM9LSZrmUU+m2c3LsV3/WrFmF5ctXelSNcs6jO/otem1oOd7upvoK2KZNm3DllVciMjJS7aaJiDRhfabv6FhunDvatq5+OTpuyfoH0dGx3LblKCkx2K3UlZQUu5xT6batq0C/Hpe7vTYr0RrlnEd39Fv02tByvN1N9RWwbdu2obKyEgkJCaipqUFdXR2WLl2K5557Tu1SyMtc0gu4rG8YFi5conUpXUpwcB9UVp7VugxVKb3K6ufnZ/cHxs/Pz6U4d7St1+vtJl16veM/Dzqdzm7SpdPpXGpbjqioMSgqKoTFYoFer0dUVLTLOZVuOySkv91kJCRkgFolCtco5zy6o9+i14aW4+1uqq+A5ebmYuvWrSgoKMDcuXMRFxfHyRcReZ17733A7njatFSHsRkZ8+yO586d71IcANx55wS74/HjJ7mUc/bsDLvj9PS5DtueOfNhu+O0tEdcaluOxMSptgmfTueDpKRkl3Mq3XZ6eqbd8Zw5mW3GuYNojXLOozv6LXptaDne7sYPYiUi6oApU5Lsjh3t/wKAoUOH257h+/n5YfDgYS7FAcDMmb+3O25r/5ecnJGRo22rXnq93uH+LwC4447xLf4o6trc/yW3P6ICAwMRHR0LnU6H6OhYBAQEupxT6bbDwgYhJKQ/gOZVoIEDwzyuRjnn0R39Fr02tBxvd9N0Anb33Xdj2bJlWpZARNRh1lWw9la/rDIy5kGn83G6CiQaB/y6CuZo9UtuTusqWHurX1bWVTBHq19y25YjMXEqIiKu02Q1RLTt9PRM+Pr6qrr6ZSVao5zzKKffvXqJ9Vv02tByvN1JJznaPemhqqrOoalJfski+1hmzZqBi5Y6TLmvo9Wpo3hH83+jx2lbh9qKdwCX9b2ee8BU1pX3gHnDtdYVx8dbcGw8m7vHx8dHh6Cg3g6/z1sRtRAQEICz5+q0LoOINBYTE6d1CUTUyXEC1oK/fwAuNv6idRlEpDHeA5KI3I2b8ImIiIhUxgkYERERkcr4EuRv1FT/usndU1lvheXpdSqtphq4rK/WVRAREbmOE7AWQkMHaV2CkO7dzACa96x1BqL3Grysr/eMERERUXs4AWshNTVN6xK6JL5Vm4iIuhruASMiIiJSGSdgRERERCrjBIyIiIhIZdwD1kHr1uXCZCrTugzV1dSYASj7BgDRTfhA8yZ87tUjIiJvxwlYB5lMZTj683foHqR1Jeq6WNX83yqof8cAa9tERETejhMwF3QPAi5L0Gldhqr+W9B8I3Qt+m1tm4iIyNtxDxgRERGRyjgBIyIiIlIZJ2AtGAx7YDDs0bQGImpmMPDxSESdF/eAtVBUVAgAGDNmrLaFEBEfj0TUqXEFjIi6DKOxDLNmzcCxY0aPzNeR9pOSkpy2X11djaysRTCbqxVrW+mccvK5oz9Kq66uxoIFCzy6Rjm84RryNppMwFJTUxEfH4+EhAQkJCRg//79WpRBRF1MTs4q1NfXYc2aVR6ZryPt19U5bz8/fxOOHj2CvLzNirWtdE45+dzRH6Xl52/CoUOHPLpGObzhGvI2qk/AJEmC0WhEQUGB7d/w4cPVLoOIuhijsQwVFccBABUV5S6vWimdz13tV1dXo7h4NyRJQnHxbkVWG5TOKSefO/qjNG+oUQ5vuIa8kep7wH7++WcAwEMPPQSz2Yx7770XKSkpapfRppoaM8xmM7KyFjmNNZmMaOyhQlFk01gHmMxGofEh5ci5U4GSTCYjAgICFMuXk2O/SrRmzSosX77SY/K5q/38/E2QpObP0JOkJuTlbUZa2iyX2lY6p5x87uiP0ryhRjm84RryRqqvgJ05cwaRkZFYs2YN3nvvPXz88cf48ssv1S6DiLoY62rRr8flHpXPXe2XlBhgsTRPoC0WC0pKil1uW+mccvK5oz9K84Ya5fCGa8gbqb4CNmLECIwYMcJ2nJycjKKiItx2221ql9KKv38A/P0DsHDhEqexWVmL8HPNdypURVbdfIHQK8OExoeUExzcB5WVZ1VvV+mVzpCQ/naTlpCQAR6Vz13tR0WNQVFRISwWC/R6PaKiol1uW+mccvK5oz9K84Ya5fCGa8gbqb4C9s0336C0tNR2LEkS9Hp+GgYRuVd6eqbd8Zw5mQ4itcnnrvYTE6dCp2u+dZhO54OkpGSX21Y6p5x87uiP0ryhRjm84RryRqpPwM6ePYsVK1bgwoULOHfuHPLy8nDnnXeqXQYRdTFhYYMQEtIfQPNq0cCBYR6Vz13tBwYGIjo6FjqdDtHRsQgICHS5baVzysnnjv4ozRtqlMMbriFvpPoELDY2FjExMUhMTMQ999yDe+65x+4lSSIid0lPz0SvXr6KrVYpna8j7fv6Om8/MXEqIiKuU3SVQemccvK5oz9KS0yciiFDhnh0jXJ4wzXkbXSS9W0IXqKq6hyamuSXLLKPxbrnRM4esMsSdLJr8Wb/LWg+91r0+78FEq7yv557wFSm9R4wjnf7tBofco5j49ncPT4+PjoEBfV2+H1uvmohJiZO6xKI6P/w8UhEnRknYC3wnnNEnoOPRyLqzHgvSCIiIiKVcQJGREREpDK+BOmCi1W/bkrvKi5WNf9Xi35frALgr3qzREREiuMErINCQwdpXYImamAG0HzXAKUI32vQv+uedyIi6lw4Aeug1NQ0rUvoNPhWbSIi6mq4B4yIiIhIZZyAEREREamMEzAiIiIilXEPWAetW5cLk6lM6zIUUVNjBqDsxno5hDfho3kTPvffERGRt+MErINMpjJ8//O/gXbu8+Q1qpo3wJ9AncaFOFF1TusKiIiIFMEJmCuCekOfcJPWVbjMUvANAHh8X6x1EhEReTvuASMiIiJSGSdgRERERCrjBKwFg2EPDIY9mtZA1NkZDHycERFxD1gLRUWFAIAxY8ZqWwhRJ8bHGRERV8CIiIiIVKfJBKywsBB33303JkyYgKysLC1KICJy6ODB/UhNvReHDx9oN85oLMOsWTNw7JjRac7q6mpkZS2C2VytUJXNORcsWKBoTjlti/RHzjnSijvGxhva1lpnuoY6QvUJWHl5ORYvXow33ngDW7ZswXfffYeioiK1yyAicmj16tcgSU3Izn613bicnFWor6/DmjWrnObMz9+Eo0ePIC9vs1JlIj9/Ew4dOqRoTjlti/RHzjnSijvGxhva1lpnuoY6QvUJ2M6dOzFx4kRcccUV6N69O1auXInhw4erXQYRUZsOHtyP2tpaAEBtba3DVTCjsQwVFccBABUV5e0+O6+urkZx8W5IkoTi4t2KrHa4I6fSbcs5R1rxhvPYGXWma6ijhDbhnz9/Hjt27MDp06chSZLt62lp8m8JYzKZ0L17dzz66KM4ceIExo4di8cff1x2HneoqTHDbDYjK2uR01iTyQj0cH9N1EJdA0xmo9D4kHLk3CpKhMlkREBAgGL5lLZ69Wt2x9nZr2Lt2vdbxeXk2D8bX7NmFZYvX9lmzvz8TbbfnZLUhLy8zUhLm+VSne7IqXTbcs6RVrzhPHZGneka6iihFbD58+fjvffew/fff49///vftn8d0djYiNLSUixduhQbNmzAgQMHkJeX16FcRERKs65+OTq2sj4r//W43GHOkhIDLJbmSazFYkFJSbGLVbonp9JtyzlHWvGG89gZdaZrqKOEVsD+/e9/Y/v27fDxcf0Vy8suuwyRkZHo27cvAOCOO+7AgQMHcPfdd7uc21X+/gHw9w/AwoVLnMZmZS3C9zW/qFAV2fj2QOiVvxMaH1JOcHAfVFaeVSyfp69g+vn52U26/Pz82owLCelv98chJGSAw5xRUWNQVFQIi8UCvV6PqKhol+t0R06l25ZzjrTiDeexM+pM11BHCc2ogoKCbDNVV8XGxmLv3r04c+YMGhsbYTAYMHjwYEVyExG5KiNjnt3x3Lnz24xLT8+0O54zJ7PNOABITJwKnU4HANDpfJCUlOxile7JqXTbcs6RVrzhPHZGneka6qh2J2C5ubnIzc1FcHAwUlNT8dZbb9m+lpub26EGhw8fjocffhj3338/Jk6ciN/97ne45557OpSLiEhpQ4cOt616+fn5YfDgYW3GhYUNQkhIfwDNz8oHDgxzmDMwMBDR0bHQ6XSIjo5FQECgy3W6I6fSbcs5R1rxhvPYGXWma6ij2p2AWfd69e7dG1dddRXKyspc3gMGAMnJydi6dSu2b9+ORYsWKfLSJhGRUjIy5kGn83G4+mWVnp6JXr18hZ6VJyZORUTEdYquciQmTsWQIUM0WTkR7Y+cc6QVd4yNN7Sttc50DXWETmr5tkYHdu3ahTvuuMPua/n5+UhMTHRXXQ5VVZ1DU5PTklsR2cdiMOwBIHaLFOseMH3CTbJr8TSWgm8AwOP7Yin4Btf6cw+Y2pTeA2Yw7AHAWxEpRenxIeVwbDybu8fHx0eHoKDeDr/f7ib8wsLmDXIrVqyAJEm2t4xaLBa8/vrrmkzA3Il/EIjcj48zIiInE7AjR47gq6++QlVVFT744INff0ivx4MPPuju2oiIiIg6pXYnYHPmzMGcOXPw0Ucf4YEHHlCrJiIiIqJOTehzwJKSkpCXl4eamhqXPwm/U6k6Z9s/5dWqml8D9/i+VJ0D/LUugoiIyHVCE7BnnnkGx48fR3h4uO1zO7q60NBBWpegmBqYATR/EK0WhG9149+5zjsREXVdQhOw77//Htu2bYNeLxTeJaSmdvHVPwXxnUJERNTVCH0A1xVXXOHuOoiIiIi6DKElrfDwcMyYMQNjxozBJZdcYvt6l98DRkRERNQBQhOw2tpahIaG4tixY+6uh4iIiKjTE5qAvfTSSwCAiooKWCwWhIaGurUob7BuXS5MpjKty1BETY0ZgBdswkfzJnzuvyMiIm8nNAEzmUz4wx/+gFOnTqGpqQmBgYFYu3Ytrr76anfX57FMpjJ8//MP0AX11boUl0lVpwEA/0GjxpW0z1onERGRtxOagC1ZsgQPP/wwkpKSAACffPIJXnjhBbtPx++KdEF9oZ80XusyXGbZuh0APL4v1jqJiIi8ndC7IKuqqmyTLwC45557UF1d7baiiIiIiDozoQlYY2MjzGaz7fj0ab4URERERNRRQi9BpqSk4L777sOECROg0+mwbds2zJw50921qc5g2AMAGDNmrIZVEJEcBsMeAHzcEpF3EZqA3XffffDz88OOHTsAADNmzMAtt9zi1sK0UFRUCIC/yIm8CR+3ROSNhCZgy5Ytw4cffojevXsDAL7++musXr0apaWlbi2OiIiIqDMS2gO2Y8cOGAwGfPXVV7Z/HZ18bdq0CQkJCbZ/I0eOxJIlSzqUi4hIDqOxDLNmzcCxY0ZF8h08uB+pqffi8OEDirVdXV2NrKxFMJudv9GpuroaCxYscBorp05Rojnl9EeUaE6l4+TGdiZdtd/uJDQBCwsLw6WXXqpIg1OnTkVBQQEKCgrwyiuvICgoCBkZGYrkJiJqT07OKtTX12HNmlWK5Fu9+jVIUhOys19VrO38/E04evQI8vI2O82Zn78Jhw4dchorp05Rojnl9EeUaE6l4+TGdiZdtd/uJDQBS01NRUpKCv785z9j9erVtn+u+t///V888cQT6NvX+z/MlIg8m9FYhoqK4wCAiopyl1fBDh7cj9raWgDNt2trbyVItO3q6moUF++GJEkoLt7d7mqDaKycOkWJ5pTTH1GiOZWOc1d/vEFX7be7Ce0Be+utt9C7d2+cPXtWsYZLSkpw/vx5TJgwQbGcrqqpMcNsNiMra5HTWJPJCKmH0OkjhUh19TCZjULjQ8qRc6soLZhMRgQEBDiNy8mxX3las2YVli9f2eF2V69+ze44O/tVrF37vktt5+dvgiRJAABJakJe3makpc1qM6dorJw6RYnmlNMfUaI5lY5zV3+8QVftt7sJrYDV19fjL3/5C55//nm7f674+OOPkZbGe/oRkTqsK1C/Hpe7lM+6AuTouCNtl5QYYLE0T3YtFgtKSood5hSNlVOnKNGccvojSjSn0nFyYzuTrtpvdxNawhk0aBC+//57XHvttYo02tDQgP/3//4fli1bpkg+pfj7B8DfPwALFzp/U0BW1iIcralSoSqy0vn2QuiVQULjQ8oJDu6DykrlVr+VJroiGhLS324iFBIywKV2/fz87CYefn5+LrcdFTUGRUWFsFgs0Ov1iIqKdphTNFZOnaJEc8rpjyjRnErHuas/3qCr9tvdhFbATpw4geTkZIwfPx6TJ0+2/euoo0ePIiwsDL6+vh3OQUQkR3p6pt3xnDmZDiLFZGTMszueO3e+y20nJk6FTqcDAOh0PkhKSnaYUzRWTp2iRHPK6Y8o0ZxKx8mN7Uy6ar/dTWgCNm/ePLz77rv405/+pMhLkOXl5bjiiis6/PNERHKFhQ1CSEh/AM0rUAMHhrmUb+jQ4baVHz8/PwwePMzltgMDAxEdHQudTofo6FgEBAQ6zCkaK6dOUaI55fRHlGhOpePc1R9v0FX77W5CE7BbbrmlzX8dNXHiRKxc2fHNr0REHZGenolevXxdXv2yysiYB53OR2hVSbTtxMSpiIi4TmiVITFxKoYMGeI0Vk6dokRzyumPKNGcSsfJje1Mumq/3UknWd/a4CWqqs6hqUl+ySL7WAyGPQDEbmli3QOmnzRedi2exrJ1OwB4fF8sW7cjwp97wNTm6XvADIY9ALrurYg8fXy6Mo6NZ3P3+Pj46BAU1Nvh9/k5Ci101V/gRN6Mj1si8kZCL0ESERERkXI4ASMiIiJSGSdgRERERCrjHjAXSFWnbRvYvZlUdRoAPL4vUtVpwD9I6zKIiIhcxglYB4WGDtK6BMXUoBuA5jsBaEH4XoP+QZ3qvBMRUdfFCVgHpabyPpZK4Vu1iYioq+EeMCIiIiKVcQJGREREpDK+BNlB69blwmQq07oMRdTUmAF4wR4wNO+948u/RETk7TgB6yCTqQzf//wTfIL6aV2Ky5qqqgAAJ/9vM76naqo6pXUJREREiuAEzAU+Qf3Qc9J0rctw2YWtfwUAj++LtU4iIiJvxz1gRERERCrjBIyIiIhIZZyAEREREamME7AWDIY9MBj2aFoDEcljMPBxS0Teh5vwWygqKgQAjBkzVttCiEgYH7dE5I00WQErKChAfHw84uPjsXz5ci1KIKIuqLq6GllZi2A2V7cbV1q6Fykpydi3r0SRfABw8OB+pKbei8OHDyiW02gsQ1JSEo4dMyqWU5TRWIZZs2Y4bVuUnBpFY5WO05qW/els59ITqD4Bq6+vx4svvoh169ahoKAA33zzDUpK2v8lR0SkhPz8TTh69Ajy8ja3G7d27WoAQE5OtiL5AGD16tcgSU3Izn5VsZw5OatQV1eHNWtWKZZTVE7OKtTXO29blJwaRWOVjtOalv3pbOfSE6g+AWtsbERTUxPq6+thsVhgsVjQs2dPtcsgoi6muroaxcW7IUkSiot3O3yGXlq6FxZL850ZLBaLw1Uw0XxA8+pXbW0tAKC2ttbhKpicnEZjGSoqjgMAKirKHa5EyckpSrRtUXJqFI1VOk5rWvans51LT6H6HrDevXsjMzMTEyZMQK9evXDzzTfjxhtvVLuMNtXUmGE2m5GVtchprMlkhNTjEhWqIiuprhYmc5XQ+JBy5NwqSgsmkxEBAQFO4/LzN0GSJACAJDUhL28z0tJmtYqzrn5Z5eRkY9SoqA7nA5pXv1rKzn4Va9e+71LOnBz7lac1a1Zh+fKVLuUUJdq2KDk1isYqHac1LfvT2c6lp1B9Bez777/HJ598gt27d8NgMMDHxwfvvPOO2mUQURdTUmKwW9kqKSluM84a4+hYbj4AttUvR8cdyWldgfr1uNzlnKJE2xYlp0bRWKXjtKZlfzrbufQUqq+A7d27F5GRkQgKCgIA3H333Vi/fj0efvhhtUtpxd8/AP7+AVi4cInT2KysRfh3zVkVqiIrna8fQq+8Qmh8SDnBwX1QWem517roimhU1BgUFRXCYrFAr9cjKiq6zTi9Xm836dLr2/41KZoPAPz8/OwmXX5+fi7nDAnpbzcRCgkZ4HJOUaJti5JTo2is0nFa07I/ne1cegrVV8CuvfZalJSUoK6uDpIkobCwEEOHDlW7DCLqYhITp0Kn0wEAdDofJCUltxk3e3aG3XF6+lyX8gFARsY8u+O5c+e7nDM9PdPueM6czDbj5OQUJdq2KDk1isYqHac1LfvT2c6lp1B9AjZ69GjEx8fj7rvvxpQpU2CxWPDII4+oXQYRdTGBgYGIjo6FTqdDdHQsAgIC24yLjBxtW/XS6/Vt7v+Skw8Ahg4dblv18vPzw+DBw1zOGRY2CCEh/QE0r0ANHBjmck5Rom2LklOjaKzScVrTsj+d7Vx6Ck0+B+yRRx7BF198gc8++wxLly7luyCJSBWJiVMREXGd02fm1lUwR6tfcvMBzatgOp2Pw9WvjuRMT8+Er6+v0xUoOTlFpadnolcv522LklOjaKzScVrTsj+d7Vx6Ap1kfcuCl6iqOoemJvkli+xjMRj2ABD7RG3rHrCek6bLrsXTXNj6VwDw+L5c2PpXhPv34R4wlXn6HjCDYQ+ArvtJ+J4+Pl0Zx8azuXt8fHx0CArq7fD7vBVRC131FziRN+Pjloi8EW/GTURERKQyTsCIiIiIVMYJGBEREZHKuAfMBU1Vp2wb2L1ZU9UpAPD4vjRVnQL8+2hdBhERkcs4Aeug0NBBWpegmBo0AgD8NZrcCN9r0L9PpzrvRETUdXEC1kGpqWlal9Bp8K3aRETU1XAPGBEREZHKOAEjIiIiUhlfguygdetyYTKVaV2G6mpqzAAAf/8AxXIK7wFD8947vvxLRETejhOwDjKZyvDvn8vQM2iA1qWo6kJVNQDADMe3V5BPbPJ1oapcwTaJiIi0wwmYC3oGDcDAhKe0LkNVxwpWAIAm/ba2TURE5O24B4yIiIhIZZyAEREREamMEzAiIiIilXEC1oLBsAcGwx5NayAieQwGPm6JyPtwE34LRUWFAIAxY8ZqWwgRCePjloi8kSYrYG+99RbGjx+PyZMnIycnR4sSiKgLMhrLMGvWDBw7Zmw3rrq6GllZi2A2V6tTWAcdPLgfEyZMwOHDBxTJJ6ffWp4j0bZFx9sdbWuVz128oU651++CBQs07Y/qE7CSkhJ89tln+OSTT5Cfn4/9+/djx44dapdBRF1QTs4q1NfXYc2aVe3G5edvwtGjR5CXt1mlyjpm9erX0NTUhOzsVxXJJ6ffWp4j0bZFx9sdbWuVz128oU651++hQ4c07Y/qE7DvvvsOo0ePRu/evdGtWzeMGTMGu3btUrsMIupijMYyVFQcBwBUVJQ7XBWprq5GcfFuSJKE4uLdHvuM/+DB/aitrQUA1NbWurwKJqffWp4j0bZFx9sdbWuVz128oU5vuX5bUn0P2ODBg7F06VLMnj0bvXr1QmFhISRJUruMNtXUmGE2m5GVtchprMlkhKXHpSpURVaWujMwmc8IjQ8pR86torRgMhkREBDgNC4nx34VZM2aVVi+fGWruPz8TbbfSZLUhLy8zUhLm6VIrUpavfo1u+Ps7Fexdu37Hc4np99aniPRtkXH2x1ta5XPXbyhTm+5fltSfQUsMjISd999N1JTU/Hwww9j5MiR6N69u9plEFEXY10N+fW47VtblZQYYLE0TzgtFgtKSordXltHWFe/HB3LJaffWp4j0bZFx9sdbWuVz128oU5vuX5bUn0F7Ny5cxg3bhzS0ppvqPz2229jwADPuJ+iv38A/P0DsHDhEqexWVmLYKrx3FWBzkjveylCr+wrND6knODgPqisPKt1GQ6JroiGhPS3+6McEtL2752oqDEoKiqExWKBXq9HVFS0InUqzc/Pz27S5efn51I+Of3W8hyJti063u5oW6t87uINdXrL9duS6itgx48fxx/+8AdYLBacPXsWmzdvxoQJE9Qug4i6mPT0TLvjOXMy24xLTJwKnU4HANDpfJCUlOz22joiI2Oe3fHcufNdyien31qeI9G2RcfbHW1rlc9dvKFOb7l+W1J9Anbttddi3LhxmDJlCpKTkzFz5kyMHDlS7TKIqIsJCxuEkJD+AJpXQwYODGszLjAwENHRsdDpdIiOjkVAQKCKVYobOnS4bdXLz88PgwcPcymfnH5reY5E2xYdb3e0rVU+d/GGOr3l+m1Jk88BmzNnDrZt24bt27dj+vTpWpRARF1QenomevXydboakpg4FRER13nkM/2WMjLmwcfHx+XVLys5/dbyHIm2LTre7mhbq3zu4g11yr1+hwwZoml/dJKnvAVRUFXVOTQ1yS9ZZB+LdS+JnD1gAxOekl2LNztWsAIANOn3sYIVCPXXcw+YyrxlD1hXvS48fXy6Mo6NZ3P3+Pj46BAU1Nvh93krohZiYuK0LoGIZOLjloi8ESdgLfBeckTeh49bIvJGmuwBIyIiIurKOAEjIiIiUhlfgnTBhapy26b0ruJCVfOnSWvR7wtV5YD/INXbJSIiUhonYB0UGto1JwI1aP68FH9/5S4d4XsN+g/qsuediIg6F07AOig1NU3rEjoNvlWbiIi6Gu4BIyIiIlIZJ2BEREREKuNLkB20bl0uTKYyrctoV02NGQDg7x+gaR3OCO8BQ/PeO778S0RE3o4TsA4ymcrw889GBPcN1boUh6qqzAAAH8lf20KcuigUVXna5OY6iIiI1MEJmAuC+4Zi6sSFWpfh0KZtWQDg0TXKYe0PERGRt+MeMCIiIiKVcQJGREREpDJOwIiIiIhUxglYCwbDHhgMezStgYjkMRj4uCUi78NN+C0UFRUCAMaMGattIUQkjI9bIvJGbl0BO3fuHCZNmoTjx48DAEpKSjB58mSMGzcOK1eudGfTREStVFdXIytrEczmatXzGY1lmDVrBo4dMyrSthyidSp9fgCgtHQvUlKSsW9fiepta9lvd/CGOrW8zr2N2yZg+/fvx/Tp02E0GgEA58+fx3PPPYc33ngD27Ztw6FDh1BUVOSu5omIWsnP34SjR48gL2+z6vlyclahvr4Oa9asUqRtOUTrVPr8AMDatasBADk52aq3rWW/3cEb6tTyOvc2bpuAbdy4EYsXL0a/fv0AAAcOHEBoaCgGDBgAvV6PyZMn44svvnBX80REdqqrq1FcvBuSJKG4eLfLqwhy8hmNZaioaH4loKKiXNXVAdE6lT4/QPPql8XSfJcLi8XicBXMHW1r2W938IY6tbzOvZHb9oC9+OKLdsenTp1CcHCw7bhfv344efKku5rvkJoaM8xmM7KyFjmNNZmMuKSHp3/CfOdSV2/G6ZoaofEh5ci5VZQWTCYjAgICnMbl52+CJEkAAElqQl7eZqSlzepwu3Ly5eTYrwasWbMKy5ersw1DtE6lzw/w6+qXVU5ONkaNilKlbS377Q7eUKeW17k3Uu1dkE1NTdDpdLZjSZLsjomI3KmkxGC3GlNSUqxaPuuqwK/H5S61LYdonUqfH2ue9o7d2baW/XYHb6hTy+vcG6n2LsgrrrgClZWVtuPKykrby5Oewt8/AP7+AVi4cInT2KysRThrllSoiqx8ewXg8isDhcaHlBMc3AeVlWe1LsMh0RXRqKgxKCoqhMVigV6vR1RUtEvtyskXEtLf7o9TSMgAl9qWQ7ROpc8PAOj1ertJl17f9p8cd7StZb/dwRvq1PI690aqrYANHz4cZWVlMJlMaGxsxNatWxEd7XkXEBF1TomJU22r7jqdD5KSklXLl56eaXc8Z06mg0jlidap9PkBgNmzM+yO09Pnqta2lv12B2+oU8vr3BupNgHr2bMnli1bhsceewwTJ07EVVddhbvuukut5omoiwsMDER0dCx0Oh2io2MREBCoWr6wsEEICekPoHlVYODAMJfalkO0TqXPDwBERo62rXrp9fo293+5q20t++0O3lCnlte5N3L7BKywsBD9+zcPSGRkJLZs2YLt27fjueee4x4wIlJVYuJURERcp9jqgZx86emZ6NXLV5NVAdE6lT4/wK+rYI5Wv9zZtpb9dgdvqFPL69zb6CTr2yq8RFXVOTQ1yS9ZZB+LdS+JnD1gUyculF2LWjZtywIAj65Rjk3bstAnQMc9YCrzlj1gXfW68PTx6co4Np7N3ePj46NDUFBvh9/nrYhaiImJ07oEIpKJj1si8kacgLXAe8kReR8+bonIG6m2CZ+IiIiImnECRkRERKQyvgTpgsrTJttGd09UWWUCAI+uUY7K0yb0CQjTugwiIiKXcQLWQaGhg7QuwakmXQAAoI+/Z3/ch+i9BvsEhHnFeSciInKGE7AOSk1N07qEToNv1SYioq6Ge8CIiIiIVMYJGBEREZHKOAEjIiIiUhn3gHXQunW5MJnKtC6jXTU1ZgCAv3+ApnU4c+214UhOTtG6DCIiItVwAtZBJlMZTD8aMeDSgVqX4pD5TDUAoM+FSzWuxLHyM8fQowcvQyIi6lr4l88FAy4diPmjntW6DIde3fcSAHhFjURERF0J94ARERERqYwTMCIiIiKVcQLWgsGwBwbDHk1rIPJGBgMfO0REcnAPWAtFRYUAgDFjxmpbCJGX4WOHiEgeroARkUcqLd2LlJRk7NtX0m6c0ViGWbNm4Ngxo9OcBw/uR2rqvTh8+EC7cdXV1cjKWgSzuVqxtt2Vc8GCBU5zivZbTttKEz0/cmLl5FSa6NhoyR3nx1tyegK3T8DOnTuHSZMm4fjx47avPfXUU/j000/d3TQRebG1a1cDAHJystuNy8lZhfr6OqxZs8ppztWrX4MkNSE7+9V24/LzN+Ho0SPIy9usWNvuynno0CGnOUX7LadtpYmeHzmxcnIqTXRstOSO8+MtOT2BWydg+/fvx/Tp02E0GgEAJ0+exKOPPort27e7s1ki8nKlpXthsVgAABaLxeEqmNFYhoqK5id3FRXl7a7cHDy4H7W1tQCA2tpah6tB1dXVKC7eDUmSUFy82+Gzbjlta5lTtN9y2laaaF/kxMrJqTQt2xbljhq9JaencOsesI0bN2Lx4sV46qmnAACfffYZbr/9dgQEBLiz2Q6rqTHDbDYjK2uR01iTyQh/H38VqurczlyoQcVPZ4TOOWmjRw89Ghos7caYTEZFH9fW1S+rnJxsjBoV1SouJ8d+pWbNmlVYvnxlmzlXr37N7jg7+1WsXft+q7j8/E2QJAkAIElNyMvbjLS0WS61rWVO0X7LaVtpon2REysnp9K0bFuUO2r0lpyewq0rYC+++CJuuukm2/HDDz+MqVOnurNJIuoErKtfjo6trCs2vx6XO8xpXQVydGxVUmKwW30rKSl2uW0tc4r2W07bShPti5xYOTmVpmXbotxRo7fk9BR8F2QL/v4B8PcPwMKFS5zGZmUtQtOpJhWq6twu7emPfv2D8dRTXAHzVMHBfVBZebbdGKVXMPV6vd2kS69v+1dVSEh/u4lDSMgAhzn9/PzsJh9+fn5txkVFjUFRUSEsFgv0ej2ioqJdblvLnKL9ltO20kT7IidWTk6ladm2KHfU6C05PQXfBUlEHmf27Ay74/T0uW3Gpadn2h3PmZPZZhwAZGTMszueO3d+m3GJiVOh0+kAADqdD5KSkl1uW8ucov2W07bSRPsiJ1ZOTqVp2bYod9ToLTk9BSdgRORxIiNH21a99Hp9m/u/ACAsbBBCQvoDaF6xGTgwzGHOoUOH21Z//Pz8MHjwsDbjAgMDER0dC51Oh+joWAQEBLrctpY5Rfstp22lifZFTqycnErTsm1R7qjRW3J6Ck7AiMgjWVfBHK1+WaWnZ6JXL1+hFZuMjHnQ6XwcrgJZJSZORUTEdU6fbctp2105hwwZ4jSnaL/ltK000fMjJ1ZOTqWJjo2W3HF+vCWnJ9BJ1rcXeImqqnNoapJfspx9LHL2gM0f9azsWtTy6r6XAMDja7ykfw/uAfNgSj92SFki40Pa4Nh4NnePj4+PDkFBvR1+n5vwW4iJidO6BCKvxMcOEZE8nIC1wPvYEXUMHztERPJwDxgRERGRyjgBIyIiIlIZX4J0QfmZY7aN7p6o/IwJADy8xmO4Bv+jdRlERESq4gSsg0JDB2ldglMBPZs/L8XH33MXOkP7heGqq67SugwiIiJVcQLWQampaVqX0GnwrdpERNTVeO7SCBEREVEnxQkYERERkco4ASMiIiJSGfeAddC6dbkwmcq0LkN1NTVmAIC/f4BiOXv00KOhwSIUGxo6iPvviIjI63EC1kEmUxmO/fgTBl56hdalqMp8pgoA4H+hu2I5GwTjjp35j2JtEhERaYkTMBcMvPQKPHdr11qNWfpVLgBo0m9r20RERN6Oe8CIiIiIVMYJGBEREZHKOAFrwWDYA4Nhj6Y1EJE8BgMft0TkfbgHrIWiokIAwJgxY7UthIiE8XFLRN6IK2BEREREKnPrBOzcuXOYNGkSjh8/DgDYsGEDJk2ahMmTJ+PZZ59FQ4PoBxAQEbnu4MH9SE29F4cPH2g3bsOG9UhJScamTR8rkk9O7K5d25GSkozCwp1OcxqNZUhKSsKxY8Z247ZsyUNKSjK2bi1QpEY5saJxojUC4udI6RrlxFZXV2PBggUwm6ud5lSaaI1GYxlmzZrh9PoBmvuTlbVI0f6Ulu5FSkoy9u0raTdOtE45/fEEbpuA7d+/H9OnT4fRaAQAlJWV4Z133sHHH3+MLVu2oKmpCevXr3dX80REraxe/RokqQnZ2a+2G/fZZ58CAAoKNiuST07s+++/DQDIzX3Lac6cnFWoq6vDmjWr2o3buPEjAMDHH69TpEY5saJxojUC4udI6RrlxObnb8KhQ4eQl9f+NeQOojXm5KxCfb3z6wdo7s/Ro0cU7c/atav/r47sduNE65TTH0/gtgnYxo0bsXjxYvTr1w8A0KNHDyxevBi9e/eGTqdDeHg4fvnlF3c1T0Rk5+DB/aitrQUA1NbWOlwd2LDB/omho1Uw0XxyYnft2g5JkgAAkiS1u8JjNJahoqL51YWKinKHz/q3bMmzO3a0wuSO/ojGidYIiJ8jpWuUE1tdXY3i4t2QJAnFxbtVXQUTrVH0+gHc05/S0r2wWJrvgGKxWByugonWKac/nkInWa9kN4mLi8MHH3yA/v372752+vRpJCcn46WXXsKoUaNk5auqOoemJvklBwf3QWXl2XZjnnxyLsxmM0JDw5zmM5mMCPDpheUxj8muxZtp+UGsTxe9DnNTvdD4kHLk3CpKCyaTEQEBAXj55fafRc+ePdP2hwkA/Pz8sHbt+63iUlKSW33tww9bP+sXzScnNjV1Klr+StbpdFi3blObOZ9++nHbHxwACAkZgOXLV3pUf5Q+54D4OVK6RjmxublvoaioEBaLBXq9HjExtyMtbVabOZUmWqPo9QO4pz8PPjjNNgEDAL1ej/fea/1kR7ROOf2xEpkXuMLHR4egoN6Ov++2lh04efIkZs6ciXvuuUf25IuIqKNa/lFq69id+URjf/t8uL3nxy3/2DQflzuMFeGO/ih9zgHxc+SOGkVjS0oMdqs7JSXFDnMqTbRGOdePO/rTcvLV1vGvdYnVqfTjQQ2qfgzFTz/9hIcffhipqal46KGH1GxaiL9/APz9A7Bw4RKnsVlZi4BTrv8yIXH+PXvDv9/lQuNDynH3s0RXZWUtEorz8/NrtTLgCjn5RGN1Ol2r1R1HQkL6t3rG7wp39Efpcw6InyN31CgaGxU1xm7FKCoq2mFOpYnWKOf6cUd/9Hp9qxUwV+pU+vGgBtVWwM6dO4ff//73yMzM9MjJFxF1bhkZ8+yO586d32bc5Ml32x0nJLR+eUxOPjmxM2c+bHeclvaIw5zp6Zl2x3PmZLYZd++9D9gdT5uW6lKNcmJF40RrBMTPkdI1yolNTJxqmxjqdD5ISmr7GnIH0RpFrx/APf2ZPTvjN/XMbTNOtE45/fEUqk3ANm/ejP/+97/Izc1FQkICEhISsGqVd7xTgYi839Chw22rAX5+fhg8eFibcffdd7/d8dSp01zKJyf2jjvGt/hDp0Nc3J0Oc4aFDUJISPPe2pCQARg4MKzNuClTkuyOJ01KUK0/onGiNQLi50jpGuXEBgYGIjo6FjqdDtHRsQgICHSYU2miNYpeP4B7+hMZOdq26qXX6zFqVJRLdcrpj6dw+wSssLAQ/fv3x4MPPohDhw6hoKDA9i8z0/NnqETUeWRkzINO59PuKgfw6yqYo9UvufnkxFpXeNpb/bJKT8+Er6+v02f71hWm9laW5NQoJ1Y0TrRGQPwcKV2jnNjExKkYMmSIqqtfVqI1pqdnolcv59cP0NyfiIjrFO2PdRXM0eqXlWidcvrjCdz+LkilufNdkAbDHgBitzSx7gHT4t2AWtLyXZBLv8oF+vlxD5jKPH0PmMGwB0DXvRWRp49PV8ax8WxavwuS94Jsoav+AifyZnzcEpE34r0giYiIiFTGCRgRERGRyjgBIyIiIlIZ94C54NiZ/9g2pXcVpjP/AQBN+n3szH8wsN/VqrdLRESkNE7AOig0dJDWJWgioGdQ8//4u/6J1lai9xoc2O/qLnveiYioc/G6CZiPj+Nbc7jzZ39r5kx+mr9SgoJ6o6rqnNZlUDuUfOyQ8jg+notj49ncOT7Ocnvd54AREREReTtuwiciIiJSGSdgRERERCrjBIyIiIhIZZyAEREREamMEzAiIiIilXECRkRERKQyTsCIiIiIVMYJGBEREZHKOAEjIiIiUlmnn4B99tlnmDhxIsaNG4ePPvpI63Lo/5w7dw6TJk3C8ePHAQAlJSWYPHkyxo0bh5UrV2pcXde1evVqxMfHIz4+HitWrADAsfEkq1atwsSJExEfH4/c3FwAHB9Ps3z5cjzzzDMAODaeJDU1FfHx8UhISEBCQgL279+v/fhIndh//vMfKTY2VqqurpZqa2ulyZMnSz/88IPWZXV5//rXv6RJkyZJgwcPlsrLy6X6+nopJiZGOnbsmHTx4kXpoYcekvbs2aN1mV3Ol19+Kd13333ShQsXpIaGBmnGjBnSZ599xrHxEPv27ZOmTZsmXbx4Uaqvr5diY2OlI0eOcHw8SElJiTRq1Cjp6aef5u81D9LU1CSNHj1aunjxou1rnjA+nXoFrKSkBLfeeisCAgLg6+uL8ePH44svvtC6rC5v48aNWLx4Mfr16wcAOHDgAEJDQzFgwADo9XpMnjyZ46SB4OBgPPPMM+jRowe6d++Oq6++GkajkWPjIW655RZ88MEH0Ov1qKqqQmNjI86cOcPx8RBmsxkrV67Eo48+CoC/1zzJzz//DAB46KGHMGXKFHz44YceMT6degJ26tQpBAcH24779euHkydPalgRAcCLL76Im266yXbMcfIM11xzDW644QYAgNFoxOeffw6dTsex8SDdu3dHdnY24uPjERkZyceOB1m0aBGeeOIJXHrppQD4e82TnDlzBpGRkVizZg3ee+89fPzxx/jll180H59OPQFramqCTqezHUuSZHdMnoHj5Fl++OEHPPTQQ3jqqacwYMAAjo2HmTt3LkpLS3HixAkYjUaOjwfYtGkTrrzySkRGRtq+xt9rnmPEiBFYsWIF+vTpg759+yI5ORnZ2dmaj49e1dZUdsUVV+Cbb76xHVdWVtpe9iLPccUVV6CystJ2zHHSzrfffou5c+fiueeeQ3x8PL7++muOjYf46aef0NDQgOuuuw69evXCuHHj8MUXX6Bbt262GI6PNrZt24bKykokJCSgpqYGdXV1qKio4Nh4iG+++QYXL160TZAlSUJISIjmv9s69QpYVFQUSktLcfr0adTX12PHjh2Ijo7Wuiz6jeHDh6OsrAwmkwmNjY3YunUrx0kDJ06cwJw5c/DKK68gPj4eAMfGkxw/fhwLFy5EQ0MDGhoa8Pe//x3Tpk3j+HiA3NxcbN26FQUFBZg7dy7i4uLw9ttvc2w8xNmzZ7FixQpcuHAB586dQ15eHubNm6f5+HTqFbDLL78cTzzxBGbMmIGLFy8iOTkZw4YN07os+o2ePXti2bJleOyxx3DhwgXExMTgrrvu0rqsLuedd97BhQsXsGzZMtvXpk2bxrHxEDExMThw4AASExPRrVs3jBs3DvHx8ejbty/HxwPx95rniI2Nxf79+5GYmIimpibcf//9GDFihObjo5MkSVK1RSIiIqIurlO/BElERETkiTgBIyIiIlIZJ2BEREREKuMEjIiIiEhlnIARERERqYwTMCLyKHFxcTh48KAmbS9evBhxcXFYuXKlam1u2rQJH330kWrtEZFn6NSfA0ZEJMeGDRuwZ88eXHHFFaq1+e233+Kaa65RrT0i8gycgBGRbPv27cPKlSsxYMAA/PDDD7BYLHjhhRewadMmXHPNNfj9738PAHjmmWdsx3FxcZg0aRK++uor1NTU4OGHH8Y//vEPHD58GHq9Hjk5Obj88ssBAOvXr8f333+PhoYGpKWlITk5GQBQWFiInJwcXLx4EZdccgmefvppjBgxAq+//jr+9a9/4dSpU4iIiMArr7zisPYffvgBS5Ysgdlshk6nw0MPPYTExETcf//9kCQJs2bNwuLFi+1uGN9SbW0tnn32WZhMJvj4+GDw4MFYsmQJfHx8HNb33//+F4sWLUJVVRUqKysREhKCP//5z/jHP/6BwsJCfPnll7jkkktw66234o9//CMaGhogSRKSk5PxwAMPOOzLt99+i/nz56OwsBA+Pj6or69HXFwc/va3v6Fv374dHV4iUgEnYETUIQcOHMDixYtx3XXX4d1338XKlSvRv3//dn/mwoUL2LhxI7Zt24b58+cjLy8P1157LebMmYO8vDw8+uijAJo/RTwvLw8nT55EUlIShg8fju7du2PlypX44IMPEBgYiB9++AFpaWnYsWMHAKCiogJbt26FXu/415rFYkF6ejqeeuopjBs3DidPnsTUqVMRGhqK9evXIyIiAu+//367k5edO3eitrYWBQUFaGxsxOLFi1FeXg5JkhzW97e//Q033HADHnnkEUiShEceeQQFBQV46KGH8Pe//x3XXHMNHnjgATz33HOIi4vDI488gsrKSixduhTTp0+Hj0/bu0VGjhwJf39/GAwGxMTE4G9/+xsiIyM5+SLyApyAEVGH/O53v8N1110HALj++uuRl5fndAI2btw4AMCAAQNw2WWX4dprrwUADBw4EDU1Nba4adOmAWi+ndhtt92G0tJSdOvWDadOncKDDz5oi9PpdDh27BgA4IYbbmh38gUARqMRFy5csNVx+eWXY9y4cTAYDBgxYoRQv0eOHImVK1ciNTUVUVFRmDlzJkJDQ/HRRx85rG/mzJn45ptvkJubC6PRiB9++AHDhw9vlfvOO+/E008/jQMHDiAyMhILFy50OPmyeuCBB7Bx40bExMRgw4YNeOqpp4T6QUTa4gSMiDrkkksusf2/TqeDJEm2/1pdvHjR7md69Ohh+//u3bs7zN1y0tHU1AS9Xo/GxkZERkbiz3/+s+17J06cQL9+/bBz5074+vo6rbmxsRE6nc7ua5IkwWKxOP1ZqwEDBmDnzp3Yt28fvvrqK6SlpWHJkiVoampyWN/LL7+MAwcO4J577sGoUaNgsVjQ1l3gYmNjsX37dpSUlKC0tBRr1qzBp59+2u6etMmTJ+O1117DV199hbq6Otx8883CfSEi7fBdkESkmMDAQBw6dAgAcPLkSXz99dcdypOXlwcA+OWXX1BaWorIyEhERkbiyy+/xE8//QQAKCoqwpQpU3D+/HnhvFdddRX0er3tZcuTJ09i+/btiIqKEs6xfv16PPvssxg9ejSefPJJjB49Gt9991279e3duxczZ85EYmIigoKCUFJSgsbGRgBAt27dbBPA+fPnY9u2bYiPj8fixYvRu3dv2wqfI7169cKUKVPw3HPP2VYOicjzcQWMiBSTmpqKBQsWYPz48ejfvz9uvfXWDuW5cOECkpKScPHiRSxcuBCDBg0CACxZsgTz5s2DJEm2jft+fn7Cebt374433ngDWVlZeP3119HY2Ig5c+bIqjMxMRFff/01Jk6ciF69euHKK69Eamoq/P39HdY3Z84crFixAqtWrUL37t1x44032iZW0dHRWLZsGQDgD3/4A/74xz9iw4YN6NatG+644w6hFa27774bGzduRGJionA/iEhbOqmtdXAiIvIKkiThL3/5CyoqKvDCCy9oXQ4RCeIKGBF1Klu2bME777zT5vcmT56Mhx9+2GmOxx9/HGVlZW1+b+XKlbjqqqtcqlEOZ/1Zv349+vXrhzfeeEO1mojIdVwBIyIiIlIZN+ETERERqYwTMCIiIiKVcQJGREREpDJOwIiIiIhUxgkYERERkco4ASMiIiJS2f8Hvc3z+E2VF4sAAAAASUVORK5CYII=\n",
      "text/plain": [
       "<Figure size 720x432 with 1 Axes>"
      ]
     },
     "metadata": {},
     "output_type": "display_data"
    }
   ],
   "source": [
    "sns.boxplot(data = train_eda, y = 'month', x = 'number_of_seats_y', orient = 'h')\n",
    "plt.title(\"Number of Seats by Month\", size = 20);\n",
    "# Would like to reorder how the boxes are shown"
   ]
  },
  {
   "cell_type": "code",
   "execution_count": 166,
   "id": "55898807",
   "metadata": {},
   "outputs": [
    {
     "data": {
      "image/png": "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\n",
      "text/plain": [
       "<Figure size 720x432 with 1 Axes>"
      ]
     },
     "metadata": {},
     "output_type": "display_data"
    }
   ],
   "source": [
    "sns.boxplot(data = train_eda, y = 'weekday_num', x = 'number_of_seats_y', orient = 'h')\n",
    "plt.title(\"Number of Seats by Weeekday\", size = 20);"
   ]
  },
  {
   "cell_type": "code",
   "execution_count": 185,
<<<<<<< HEAD
   "id": "c00ec18b",
=======
   "id": "5e906d5b",
>>>>>>> c2bc8c6575e733a6b149f8c35b55d03a41571fe1
   "metadata": {},
   "outputs": [
    {
     "data": {
      "image/png": "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\n",
      "text/plain": [
       "<Figure size 720x432 with 1 Axes>"
      ]
     },
     "metadata": {},
     "output_type": "display_data"
    }
   ],
   "source": [
    "sns.boxplot(data = train_eda, y = \"number_of_seats_y\", x = 'travel_time', orient = 'v')\n",
    "plt.title(\"Number of Seats by Departure Time\", size = 20);"
   ]
  },
  {
   "cell_type": "code",
   "execution_count": 168,
   "id": "004225c2",
   "metadata": {},
   "outputs": [],
   "source": [
    "sns.histplot?"
   ]
  },
  {
   "cell_type": "code",
   "execution_count": 186,
   "id": "b464b0ff",
   "metadata": {},
   "outputs": [
    {
     "data": {
      "image/png": "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\n",
      "text/plain": [
       "<Figure size 1260x360 with 1 Axes>"
      ]
     },
     "metadata": {},
     "output_type": "display_data"
    }
   ],
   "source": [
    "sns.relplot(data = train_eda, y = 'number_of_seats_y', x = 'day', kind = 'line', aspect = 3.5)\n",
    "plt.title(\"Number of Seats by the Day of the Month\", size = 20);"
   ]
  },
  {
   "cell_type": "code",
   "execution_count": 187,
   "id": "bfaaa6d7",
   "metadata": {},
   "outputs": [
    {
     "data": {
      "image/png": "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\n",
      "text/plain": [
       "<Figure size 1260x360 with 1 Axes>"
      ]
     },
     "metadata": {},
     "output_type": "display_data"
    }
   ],
   "source": [
    "sns.relplot(data = train_eda, y = 'number_of_seats_y', x = 'day', kind = 'scatter', aspect = 3.5)\n",
    "plt.title(\"Number of Seats by the Day of the Month\", size = 20);\n",
    "#Interesting that there's no data for days 4 to 12"
   ]
  },
  {
   "cell_type": "code",
   "execution_count": 188,
   "id": "b11aed34",
   "metadata": {},
   "outputs": [
    {
     "data": {
      "image/png": "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\n",
      "text/plain": [
       "<Figure size 1008x288 with 1 Axes>"
      ]
     },
     "metadata": {},
     "output_type": "display_data"
    }
   ],
   "source": [
    "sns.relplot(data = train_eda, y = 'number_of_seats_y', x = 'travel_date', kind = 'line', height=4, aspect=3.5)\n",
    "plt.title(\"Number of Seats by the Date\", size = 20);"
   ]
  },
  {
   "cell_type": "code",
   "execution_count": 189,
   "id": "b22066ba",
   "metadata": {},
   "outputs": [
    {
     "data": {
      "image/png": "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\n",
      "text/plain": [
       "<Figure size 1008x288 with 1 Axes>"
      ]
     },
     "metadata": {},
     "output_type": "display_data"
    }
   ],
   "source": [
    "sns.relplot(data = train_eda, y = 'number_of_seats_y', x = 'travel_date', kind = 'scatter', height=4, aspect=3.5)\n",
    "plt.title(\"Number of Seats by the Date\", size = 20);"
   ]
  },
  {
   "cell_type": "code",
   "execution_count": 190,
   "id": "93fd846a",
   "metadata": {},
   "outputs": [
    {
     "data": {
      "image/png": "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\n",
      "text/plain": [
       "<Figure size 1440x288 with 2 Axes>"
      ]
     },
     "metadata": {},
     "output_type": "display_data"
    }
   ],
   "source": [
    "fg = sns.FacetGrid(data = train_eda, col = 'car_type', size=4, aspect=2.5,)\n",
    "fg.map(sns.kdeplot, \"number_of_seats_y\", shade=True);"
   ]
  },
  {
   "cell_type": "code",
   "execution_count": 192,
   "id": "76710505",
   "metadata": {},
   "outputs": [
    {
     "data": {
      "text/html": [
       "<div>\n",
       "<style scoped>\n",
       "    .dataframe tbody tr th:only-of-type {\n",
       "        vertical-align: middle;\n",
       "    }\n",
       "\n",
       "    .dataframe tbody tr th {\n",
       "        vertical-align: top;\n",
       "    }\n",
       "\n",
       "    .dataframe thead tr th {\n",
       "        text-align: left;\n",
       "    }\n",
       "\n",
       "    .dataframe thead tr:last-of-type th {\n",
       "        text-align: right;\n",
       "    }\n",
       "</style>\n",
       "<table border=\"1\" class=\"dataframe\">\n",
       "  <thead>\n",
       "    <tr>\n",
       "      <th></th>\n",
       "      <th colspan=\"4\" halign=\"left\">number_of_seats_y</th>\n",
       "    </tr>\n",
       "    <tr>\n",
       "      <th></th>\n",
       "      <th>min</th>\n",
       "      <th>mean</th>\n",
       "      <th>median</th>\n",
       "      <th>max</th>\n",
       "    </tr>\n",
       "    <tr>\n",
       "      <th>travel_from</th>\n",
       "      <th></th>\n",
       "      <th></th>\n",
       "      <th></th>\n",
       "      <th></th>\n",
       "    </tr>\n",
       "  </thead>\n",
       "  <tbody>\n",
       "    <tr>\n",
       "      <th>Awendo</th>\n",
       "      <td>1.0</td>\n",
       "      <td>9.664865</td>\n",
       "      <td>6.0</td>\n",
       "      <td>36.0</td>\n",
       "    </tr>\n",
       "    <tr>\n",
       "      <th>Homa Bay</th>\n",
       "      <td>1.0</td>\n",
       "      <td>17.707865</td>\n",
       "      <td>18.5</td>\n",
       "      <td>46.0</td>\n",
       "    </tr>\n",
       "    <tr>\n",
       "      <th>Kehancha</th>\n",
       "      <td>1.0</td>\n",
       "      <td>11.098837</td>\n",
       "      <td>11.0</td>\n",
       "      <td>30.0</td>\n",
       "    </tr>\n",
       "    <tr>\n",
       "      <th>Kendu Bay</th>\n",
       "      <td>1.0</td>\n",
       "      <td>1.000000</td>\n",
       "      <td>1.0</td>\n",
       "      <td>1.0</td>\n",
       "    </tr>\n",
       "    <tr>\n",
       "      <th>Keroka</th>\n",
       "      <td>1.0</td>\n",
       "      <td>3.166667</td>\n",
       "      <td>1.0</td>\n",
       "      <td>12.0</td>\n",
       "    </tr>\n",
       "    <tr>\n",
       "      <th>Keumbu</th>\n",
       "      <td>1.0</td>\n",
       "      <td>1.100000</td>\n",
       "      <td>1.0</td>\n",
       "      <td>2.0</td>\n",
       "    </tr>\n",
       "    <tr>\n",
       "      <th>Kijauri</th>\n",
       "      <td>1.0</td>\n",
       "      <td>1.854317</td>\n",
       "      <td>1.0</td>\n",
       "      <td>11.0</td>\n",
       "    </tr>\n",
       "    <tr>\n",
       "      <th>Kisii</th>\n",
       "      <td>1.0</td>\n",
       "      <td>7.485762</td>\n",
       "      <td>8.0</td>\n",
       "      <td>49.0</td>\n",
       "    </tr>\n",
       "    <tr>\n",
       "      <th>Mbita</th>\n",
       "      <td>2.0</td>\n",
       "      <td>18.000000</td>\n",
       "      <td>13.0</td>\n",
       "      <td>37.0</td>\n",
       "    </tr>\n",
       "    <tr>\n",
       "      <th>Migori</th>\n",
       "      <td>1.0</td>\n",
       "      <td>18.204663</td>\n",
       "      <td>17.0</td>\n",
       "      <td>49.0</td>\n",
       "    </tr>\n",
       "    <tr>\n",
       "      <th>Ndhiwa</th>\n",
       "      <td>1.0</td>\n",
       "      <td>10.727273</td>\n",
       "      <td>11.0</td>\n",
       "      <td>13.0</td>\n",
       "    </tr>\n",
       "    <tr>\n",
       "      <th>Nyachenge</th>\n",
       "      <td>1.0</td>\n",
       "      <td>2.612245</td>\n",
       "      <td>2.0</td>\n",
       "      <td>11.0</td>\n",
       "    </tr>\n",
       "    <tr>\n",
       "      <th>Oyugis</th>\n",
       "      <td>1.0</td>\n",
       "      <td>2.500000</td>\n",
       "      <td>2.5</td>\n",
       "      <td>4.0</td>\n",
       "    </tr>\n",
       "    <tr>\n",
       "      <th>Rodi</th>\n",
       "      <td>1.0</td>\n",
       "      <td>7.941176</td>\n",
       "      <td>8.0</td>\n",
       "      <td>14.0</td>\n",
       "    </tr>\n",
       "    <tr>\n",
       "      <th>Rongo</th>\n",
       "      <td>1.0</td>\n",
       "      <td>5.322493</td>\n",
       "      <td>3.0</td>\n",
       "      <td>37.0</td>\n",
       "    </tr>\n",
       "    <tr>\n",
       "      <th>Sirare</th>\n",
       "      <td>1.0</td>\n",
       "      <td>23.293194</td>\n",
       "      <td>21.0</td>\n",
       "      <td>50.0</td>\n",
       "    </tr>\n",
       "    <tr>\n",
       "      <th>Sori</th>\n",
       "      <td>1.0</td>\n",
       "      <td>2.750000</td>\n",
       "      <td>2.0</td>\n",
       "      <td>10.0</td>\n",
       "    </tr>\n",
       "  </tbody>\n",
       "</table>\n",
       "</div>"
      ],
      "text/plain": [
       "            number_of_seats_y                        \n",
       "                          min       mean median   max\n",
       "travel_from                                          \n",
       "Awendo                    1.0   9.664865    6.0  36.0\n",
       "Homa Bay                  1.0  17.707865   18.5  46.0\n",
       "Kehancha                  1.0  11.098837   11.0  30.0\n",
       "Kendu Bay                 1.0   1.000000    1.0   1.0\n",
       "Keroka                    1.0   3.166667    1.0  12.0\n",
       "Keumbu                    1.0   1.100000    1.0   2.0\n",
       "Kijauri                   1.0   1.854317    1.0  11.0\n",
       "Kisii                     1.0   7.485762    8.0  49.0\n",
       "Mbita                     2.0  18.000000   13.0  37.0\n",
       "Migori                    1.0  18.204663   17.0  49.0\n",
       "Ndhiwa                    1.0  10.727273   11.0  13.0\n",
       "Nyachenge                 1.0   2.612245    2.0  11.0\n",
       "Oyugis                    1.0   2.500000    2.5   4.0\n",
       "Rodi                      1.0   7.941176    8.0  14.0\n",
       "Rongo                     1.0   5.322493    3.0  37.0\n",
       "Sirare                    1.0  23.293194   21.0  50.0\n",
       "Sori                      1.0   2.750000    2.0  10.0"
      ]
     },
     "execution_count": 192,
     "metadata": {},
     "output_type": "execute_result"
    }
   ],
   "source": [
    "train_eda.groupby('travel_from')[['number_of_seats_y']].agg(['min', 'mean', 'median', 'max'])"
   ]
  },
  {
   "cell_type": "markdown",
   "id": "8d52bbae",
   "metadata": {},
   "source": [
    "# Transforming Data (ML)"
   ]
  },
  {
   "cell_type": "markdown",
   "id": "4e92e0ef",
   "metadata": {},
   "source": [
    "Trying to separate target and feature columns before transforming"
   ]
  },
  {
   "cell_type": "code",
   "execution_count": 206,
   "id": "6f2871da",
   "metadata": {},
   "outputs": [
    {
     "data": {
      "text/html": [
       "<div>\n",
       "<style scoped>\n",
       "    .dataframe tbody tr th:only-of-type {\n",
       "        vertical-align: middle;\n",
       "    }\n",
       "\n",
       "    .dataframe tbody tr th {\n",
       "        vertical-align: top;\n",
       "    }\n",
       "\n",
       "    .dataframe thead th {\n",
       "        text-align: right;\n",
       "    }\n",
       "</style>\n",
       "<table border=\"1\" class=\"dataframe\">\n",
       "  <thead>\n",
       "    <tr style=\"text-align: right;\">\n",
       "      <th></th>\n",
       "      <th>travel_time</th>\n",
       "      <th>travel_from</th>\n",
       "      <th>car_type</th>\n",
       "      <th>number_of_seats_y</th>\n",
       "      <th>month</th>\n",
       "      <th>day</th>\n",
       "      <th>weekday</th>\n",
       "    </tr>\n",
       "    <tr>\n",
       "      <th>ride_id</th>\n",
       "      <th></th>\n",
       "      <th></th>\n",
       "      <th></th>\n",
       "      <th></th>\n",
       "      <th></th>\n",
       "      <th></th>\n",
       "      <th></th>\n",
       "    </tr>\n",
       "  </thead>\n",
       "  <tbody>\n",
       "    <tr>\n",
       "      <th>1442</th>\n",
       "      <td>07:15:00</td>\n",
       "      <td>Migori</td>\n",
       "      <td>Bus</td>\n",
       "      <td>1.0</td>\n",
       "      <td>10</td>\n",
       "      <td>17</td>\n",
       "      <td>Tues</td>\n",
       "    </tr>\n",
       "    <tr>\n",
       "      <th>5437</th>\n",
       "      <td>07:12:00</td>\n",
       "      <td>Migori</td>\n",
       "      <td>Bus</td>\n",
       "      <td>1.0</td>\n",
       "      <td>11</td>\n",
       "      <td>19</td>\n",
       "      <td>Sun</td>\n",
       "    </tr>\n",
       "    <tr>\n",
       "      <th>5710</th>\n",
       "      <td>07:05:00</td>\n",
       "      <td>Keroka</td>\n",
       "      <td>Bus</td>\n",
       "      <td>1.0</td>\n",
       "      <td>11</td>\n",
       "      <td>26</td>\n",
       "      <td>Sun</td>\n",
       "    </tr>\n",
       "    <tr>\n",
       "      <th>5777</th>\n",
       "      <td>07:10:00</td>\n",
       "      <td>Homa Bay</td>\n",
       "      <td>Bus</td>\n",
       "      <td>5.0</td>\n",
       "      <td>11</td>\n",
       "      <td>27</td>\n",
       "      <td>Mon</td>\n",
       "    </tr>\n",
       "    <tr>\n",
       "      <th>5778</th>\n",
       "      <td>07:12:00</td>\n",
       "      <td>Migori</td>\n",
       "      <td>Bus</td>\n",
       "      <td>31.0</td>\n",
       "      <td>11</td>\n",
       "      <td>27</td>\n",
       "      <td>Mon</td>\n",
       "    </tr>\n",
       "  </tbody>\n",
       "</table>\n",
       "</div>"
      ],
      "text/plain": [
       "        travel_time travel_from car_type  number_of_seats_y  month  day  \\\n",
       "ride_id                                                                   \n",
       "1442       07:15:00      Migori      Bus                1.0     10   17   \n",
       "5437       07:12:00      Migori      Bus                1.0     11   19   \n",
       "5710       07:05:00      Keroka      Bus                1.0     11   26   \n",
       "5777       07:10:00    Homa Bay      Bus                5.0     11   27   \n",
       "5778       07:12:00      Migori      Bus               31.0     11   27   \n",
       "\n",
       "        weekday  \n",
       "ride_id          \n",
       "1442       Tues  \n",
       "5437        Sun  \n",
       "5710        Sun  \n",
       "5777        Mon  \n",
       "5778        Mon  "
      ]
     },
     "execution_count": 206,
     "metadata": {},
     "output_type": "execute_result"
    }
   ],
   "source": [
    "#drop travel_date cause we split it up into month and day, drop year, drop travel_to cause its all the same\n",
    "#drop max_capacity because it is synonymous with car_type, drop weekday_num as it is synonymous with weekday\n",
    "train_ml = train_eda.drop(columns=['travel_date', 'year', 'travel_to', 'max_capacity', 'weekday_num'])\n",
    "train_ml.head()"
   ]
  },
  {
   "cell_type": "code",
   "execution_count": 207,
<<<<<<< HEAD
   "id": "33fbf158",
=======
   "id": "8e18f2a1",
>>>>>>> c2bc8c6575e733a6b149f8c35b55d03a41571fe1
   "metadata": {},
   "outputs": [
    {
     "data": {
      "text/html": [
       "<div>\n",
       "<style scoped>\n",
       "    .dataframe tbody tr th:only-of-type {\n",
       "        vertical-align: middle;\n",
       "    }\n",
       "\n",
       "    .dataframe tbody tr th {\n",
       "        vertical-align: top;\n",
       "    }\n",
       "\n",
       "    .dataframe thead th {\n",
       "        text-align: right;\n",
       "    }\n",
       "</style>\n",
       "<table border=\"1\" class=\"dataframe\">\n",
       "  <thead>\n",
       "    <tr style=\"text-align: right;\">\n",
       "      <th></th>\n",
       "      <th>travel_time</th>\n",
       "      <th>travel_from</th>\n",
       "      <th>car_type</th>\n",
       "      <th>num_of_seats</th>\n",
       "      <th>month</th>\n",
       "      <th>day</th>\n",
       "      <th>weekday</th>\n",
       "    </tr>\n",
       "    <tr>\n",
       "      <th>ride_id</th>\n",
       "      <th></th>\n",
       "      <th></th>\n",
       "      <th></th>\n",
       "      <th></th>\n",
       "      <th></th>\n",
       "      <th></th>\n",
       "      <th></th>\n",
       "    </tr>\n",
       "  </thead>\n",
       "  <tbody>\n",
       "    <tr>\n",
       "      <th>1442</th>\n",
       "      <td>07:15:00</td>\n",
       "      <td>Migori</td>\n",
       "      <td>Bus</td>\n",
       "      <td>1.0</td>\n",
       "      <td>10</td>\n",
       "      <td>17</td>\n",
       "      <td>Tues</td>\n",
       "    </tr>\n",
       "    <tr>\n",
       "      <th>5437</th>\n",
       "      <td>07:12:00</td>\n",
       "      <td>Migori</td>\n",
       "      <td>Bus</td>\n",
       "      <td>1.0</td>\n",
       "      <td>11</td>\n",
       "      <td>19</td>\n",
       "      <td>Sun</td>\n",
       "    </tr>\n",
       "    <tr>\n",
       "      <th>5710</th>\n",
       "      <td>07:05:00</td>\n",
       "      <td>Keroka</td>\n",
       "      <td>Bus</td>\n",
       "      <td>1.0</td>\n",
       "      <td>11</td>\n",
       "      <td>26</td>\n",
       "      <td>Sun</td>\n",
       "    </tr>\n",
       "    <tr>\n",
       "      <th>5777</th>\n",
       "      <td>07:10:00</td>\n",
       "      <td>Homa Bay</td>\n",
       "      <td>Bus</td>\n",
       "      <td>5.0</td>\n",
       "      <td>11</td>\n",
       "      <td>27</td>\n",
       "      <td>Mon</td>\n",
       "    </tr>\n",
       "    <tr>\n",
       "      <th>5778</th>\n",
       "      <td>07:12:00</td>\n",
       "      <td>Migori</td>\n",
       "      <td>Bus</td>\n",
       "      <td>31.0</td>\n",
       "      <td>11</td>\n",
       "      <td>27</td>\n",
       "      <td>Mon</td>\n",
       "    </tr>\n",
       "  </tbody>\n",
       "</table>\n",
       "</div>"
      ],
      "text/plain": [
       "        travel_time travel_from car_type  num_of_seats  month  day weekday\n",
       "ride_id                                                                   \n",
       "1442       07:15:00      Migori      Bus           1.0     10   17    Tues\n",
       "5437       07:12:00      Migori      Bus           1.0     11   19     Sun\n",
       "5710       07:05:00      Keroka      Bus           1.0     11   26     Sun\n",
       "5777       07:10:00    Homa Bay      Bus           5.0     11   27     Mon\n",
       "5778       07:12:00      Migori      Bus          31.0     11   27     Mon"
      ]
     },
     "execution_count": 207,
     "metadata": {},
     "output_type": "execute_result"
    }
   ],
   "source": [
    "train_ml = train_ml.rename(columns={\"number_of_seats_y\":\"num_of_seats\"})\n",
    "train_ml.head()"
   ]
  },
  {
   "cell_type": "code",
   "execution_count": 208,
<<<<<<< HEAD
   "id": "e4ef1cab",
=======
   "id": "04c171ac",
>>>>>>> c2bc8c6575e733a6b149f8c35b55d03a41571fe1
   "metadata": {},
   "outputs": [],
   "source": [
    "target = \"num_of_seats\"\n",
    "features = train_ml.drop(columns=target).columns"
   ]
  },
  {
   "cell_type": "code",
   "execution_count": 227,
<<<<<<< HEAD
   "id": "896e6307",
=======
   "id": "490d1312",
>>>>>>> c2bc8c6575e733a6b149f8c35b55d03a41571fe1
   "metadata": {},
   "outputs": [
    {
     "data": {
      "text/plain": [
       "(6249, 7)"
      ]
     },
     "execution_count": 227,
     "metadata": {},
     "output_type": "execute_result"
    }
   ],
   "source": [
    "train_ml.shape"
   ]
  },
  {
   "cell_type": "code",
   "execution_count": 211,
<<<<<<< HEAD
   "id": "32f160e6",
=======
   "id": "518dfcfa",
>>>>>>> c2bc8c6575e733a6b149f8c35b55d03a41571fe1
   "metadata": {},
   "outputs": [
    {
     "data": {
      "text/plain": [
       "travel_time      object\n",
       "travel_from      object\n",
       "car_type         object\n",
       "num_of_seats    float64\n",
       "month             int64\n",
       "day               int64\n",
       "weekday          object\n",
       "dtype: object"
      ]
     },
     "execution_count": 211,
     "metadata": {},
     "output_type": "execute_result"
    }
   ],
   "source": [
    "train_ml.dtypes"
   ]
  },
  {
   "cell_type": "code",
   "execution_count": 212,
<<<<<<< HEAD
   "id": "e17b06d1",
=======
   "id": "3b5454f4",
>>>>>>> c2bc8c6575e733a6b149f8c35b55d03a41571fe1
   "metadata": {},
   "outputs": [],
   "source": [
    "#categorical: travel_time, travel_from, car_type, weekday\n",
    "#numerical: month, day\n",
    "numerical_cols = train_ml[features].select_dtypes(np.number).columns\n",
    "categorical_cols = train_ml.select_dtypes(exclude=np.number).columns"
   ]
  },
  {
   "cell_type": "code",
   "execution_count": 213,
<<<<<<< HEAD
   "id": "b08cb712",
=======
   "id": "73ca84fe",
>>>>>>> c2bc8c6575e733a6b149f8c35b55d03a41571fe1
   "metadata": {},
   "outputs": [],
   "source": [
    "#use one-hot encoder on categorical cols\n",
    "categorical_data_dummy = pd.get_dummies(train_ml[categorical_cols], drop_first=True)"
   ]
  },
  {
   "cell_type": "code",
   "execution_count": 215,
<<<<<<< HEAD
   "id": "251ca55b",
=======
   "id": "53bdd42e",
>>>>>>> c2bc8c6575e733a6b149f8c35b55d03a41571fe1
   "metadata": {},
   "outputs": [
    {
     "data": {
      "text/plain": [
       "(6249, 100)"
      ]
     },
     "execution_count": 215,
     "metadata": {},
     "output_type": "execute_result"
    }
   ],
   "source": [
    "categorical_data_dummy.shape"
   ]
  },
  {
   "cell_type": "code",
   "execution_count": 216,
<<<<<<< HEAD
   "id": "01e7ef70",
=======
   "id": "57a577f4",
>>>>>>> c2bc8c6575e733a6b149f8c35b55d03a41571fe1
   "metadata": {},
   "outputs": [
    {
     "data": {
      "text/html": [
       "<div>\n",
       "<style scoped>\n",
       "    .dataframe tbody tr th:only-of-type {\n",
       "        vertical-align: middle;\n",
       "    }\n",
       "\n",
       "    .dataframe tbody tr th {\n",
       "        vertical-align: top;\n",
       "    }\n",
       "\n",
       "    .dataframe thead th {\n",
       "        text-align: right;\n",
       "    }\n",
       "</style>\n",
       "<table border=\"1\" class=\"dataframe\">\n",
       "  <thead>\n",
       "    <tr style=\"text-align: right;\">\n",
       "      <th></th>\n",
       "      <th>month</th>\n",
       "      <th>day</th>\n",
       "    </tr>\n",
       "    <tr>\n",
       "      <th>ride_id</th>\n",
       "      <th></th>\n",
       "      <th></th>\n",
       "    </tr>\n",
       "  </thead>\n",
       "  <tbody>\n",
       "    <tr>\n",
       "      <th>1442</th>\n",
       "      <td>10</td>\n",
       "      <td>17</td>\n",
       "    </tr>\n",
       "    <tr>\n",
       "      <th>5437</th>\n",
       "      <td>11</td>\n",
       "      <td>19</td>\n",
       "    </tr>\n",
       "    <tr>\n",
       "      <th>5710</th>\n",
       "      <td>11</td>\n",
       "      <td>26</td>\n",
       "    </tr>\n",
       "    <tr>\n",
       "      <th>5777</th>\n",
       "      <td>11</td>\n",
       "      <td>27</td>\n",
       "    </tr>\n",
       "    <tr>\n",
       "      <th>5778</th>\n",
       "      <td>11</td>\n",
       "      <td>27</td>\n",
       "    </tr>\n",
       "  </tbody>\n",
       "</table>\n",
       "</div>"
      ],
      "text/plain": [
       "         month  day\n",
       "ride_id            \n",
       "1442        10   17\n",
       "5437        11   19\n",
       "5710        11   26\n",
       "5777        11   27\n",
       "5778        11   27"
      ]
     },
     "execution_count": 216,
     "metadata": {},
     "output_type": "execute_result"
    }
   ],
   "source": [
    "numerical_data = pd.DataFrame(train_ml[numerical_cols])\n",
    "numerical_data.head()"
   ]
  },
  {
   "cell_type": "code",
   "execution_count": 219,
<<<<<<< HEAD
   "id": "f1a9362b",
=======
   "id": "5fe0e4c4",
>>>>>>> c2bc8c6575e733a6b149f8c35b55d03a41571fe1
   "metadata": {},
   "outputs": [],
   "source": [
    "#add categorical and numerical back together\n",
    "train_processed = pd.concat([\n",
    "    numerical_data,\n",
    "    categorical_data_dummy\n",
    "], axis=1)"
   ]
  },
  {
   "cell_type": "code",
   "execution_count": 220,
<<<<<<< HEAD
   "id": "6ce5036c",
=======
   "id": "2efe0bfa",
>>>>>>> c2bc8c6575e733a6b149f8c35b55d03a41571fe1
   "metadata": {},
   "outputs": [
    {
     "data": {
      "text/html": [
       "<div>\n",
       "<style scoped>\n",
       "    .dataframe tbody tr th:only-of-type {\n",
       "        vertical-align: middle;\n",
       "    }\n",
       "\n",
       "    .dataframe tbody tr th {\n",
       "        vertical-align: top;\n",
       "    }\n",
       "\n",
       "    .dataframe thead th {\n",
       "        text-align: right;\n",
       "    }\n",
       "</style>\n",
       "<table border=\"1\" class=\"dataframe\">\n",
       "  <thead>\n",
       "    <tr style=\"text-align: right;\">\n",
       "      <th></th>\n",
       "      <th>month</th>\n",
       "      <th>day</th>\n",
       "      <th>travel_time_05:10:00</th>\n",
       "      <th>travel_time_05:20:00</th>\n",
       "      <th>travel_time_05:30:00</th>\n",
       "      <th>travel_time_05:40:00</th>\n",
       "      <th>travel_time_05:50:00</th>\n",
       "      <th>travel_time_06:00:00</th>\n",
       "      <th>travel_time_06:10:00</th>\n",
       "      <th>travel_time_06:20:00</th>\n",
       "      <th>...</th>\n",
       "      <th>travel_from_Rongo</th>\n",
       "      <th>travel_from_Sirare</th>\n",
       "      <th>travel_from_Sori</th>\n",
       "      <th>car_type_shuttle</th>\n",
       "      <th>weekday_Mon</th>\n",
       "      <th>weekday_Sat</th>\n",
       "      <th>weekday_Sun</th>\n",
       "      <th>weekday_Thurs</th>\n",
       "      <th>weekday_Tues</th>\n",
       "      <th>weekday_Wed</th>\n",
       "    </tr>\n",
       "    <tr>\n",
       "      <th>ride_id</th>\n",
       "      <th></th>\n",
       "      <th></th>\n",
       "      <th></th>\n",
       "      <th></th>\n",
       "      <th></th>\n",
       "      <th></th>\n",
       "      <th></th>\n",
       "      <th></th>\n",
       "      <th></th>\n",
       "      <th></th>\n",
       "      <th></th>\n",
       "      <th></th>\n",
       "      <th></th>\n",
       "      <th></th>\n",
       "      <th></th>\n",
       "      <th></th>\n",
       "      <th></th>\n",
       "      <th></th>\n",
       "      <th></th>\n",
       "      <th></th>\n",
       "      <th></th>\n",
       "    </tr>\n",
       "  </thead>\n",
       "  <tbody>\n",
       "    <tr>\n",
       "      <th>1442</th>\n",
       "      <td>10</td>\n",
       "      <td>17</td>\n",
       "      <td>0</td>\n",
       "      <td>0</td>\n",
       "      <td>0</td>\n",
       "      <td>0</td>\n",
       "      <td>0</td>\n",
       "      <td>0</td>\n",
       "      <td>0</td>\n",
       "      <td>0</td>\n",
       "      <td>...</td>\n",
       "      <td>0</td>\n",
       "      <td>0</td>\n",
       "      <td>0</td>\n",
       "      <td>0</td>\n",
       "      <td>0</td>\n",
       "      <td>0</td>\n",
       "      <td>0</td>\n",
       "      <td>0</td>\n",
       "      <td>1</td>\n",
       "      <td>0</td>\n",
       "    </tr>\n",
       "    <tr>\n",
       "      <th>5437</th>\n",
       "      <td>11</td>\n",
       "      <td>19</td>\n",
       "      <td>0</td>\n",
       "      <td>0</td>\n",
       "      <td>0</td>\n",
       "      <td>0</td>\n",
       "      <td>0</td>\n",
       "      <td>0</td>\n",
       "      <td>0</td>\n",
       "      <td>0</td>\n",
       "      <td>...</td>\n",
       "      <td>0</td>\n",
       "      <td>0</td>\n",
       "      <td>0</td>\n",
       "      <td>0</td>\n",
       "      <td>0</td>\n",
       "      <td>0</td>\n",
       "      <td>1</td>\n",
       "      <td>0</td>\n",
       "      <td>0</td>\n",
       "      <td>0</td>\n",
       "    </tr>\n",
       "    <tr>\n",
       "      <th>5710</th>\n",
       "      <td>11</td>\n",
       "      <td>26</td>\n",
       "      <td>0</td>\n",
       "      <td>0</td>\n",
       "      <td>0</td>\n",
       "      <td>0</td>\n",
       "      <td>0</td>\n",
       "      <td>0</td>\n",
       "      <td>0</td>\n",
       "      <td>0</td>\n",
       "      <td>...</td>\n",
       "      <td>0</td>\n",
       "      <td>0</td>\n",
       "      <td>0</td>\n",
       "      <td>0</td>\n",
       "      <td>0</td>\n",
       "      <td>0</td>\n",
       "      <td>1</td>\n",
       "      <td>0</td>\n",
       "      <td>0</td>\n",
       "      <td>0</td>\n",
       "    </tr>\n",
       "    <tr>\n",
       "      <th>5777</th>\n",
       "      <td>11</td>\n",
       "      <td>27</td>\n",
       "      <td>0</td>\n",
       "      <td>0</td>\n",
       "      <td>0</td>\n",
       "      <td>0</td>\n",
       "      <td>0</td>\n",
       "      <td>0</td>\n",
       "      <td>0</td>\n",
       "      <td>0</td>\n",
       "      <td>...</td>\n",
       "      <td>0</td>\n",
       "      <td>0</td>\n",
       "      <td>0</td>\n",
       "      <td>0</td>\n",
       "      <td>1</td>\n",
       "      <td>0</td>\n",
       "      <td>0</td>\n",
       "      <td>0</td>\n",
       "      <td>0</td>\n",
       "      <td>0</td>\n",
       "    </tr>\n",
       "    <tr>\n",
       "      <th>5778</th>\n",
       "      <td>11</td>\n",
       "      <td>27</td>\n",
       "      <td>0</td>\n",
       "      <td>0</td>\n",
       "      <td>0</td>\n",
       "      <td>0</td>\n",
       "      <td>0</td>\n",
       "      <td>0</td>\n",
       "      <td>0</td>\n",
       "      <td>0</td>\n",
       "      <td>...</td>\n",
       "      <td>0</td>\n",
       "      <td>0</td>\n",
       "      <td>0</td>\n",
       "      <td>0</td>\n",
       "      <td>1</td>\n",
       "      <td>0</td>\n",
       "      <td>0</td>\n",
       "      <td>0</td>\n",
       "      <td>0</td>\n",
       "      <td>0</td>\n",
       "    </tr>\n",
       "  </tbody>\n",
       "</table>\n",
       "<p>5 rows × 102 columns</p>\n",
       "</div>"
      ],
      "text/plain": [
       "         month  day  travel_time_05:10:00  travel_time_05:20:00  \\\n",
       "ride_id                                                           \n",
       "1442        10   17                     0                     0   \n",
       "5437        11   19                     0                     0   \n",
       "5710        11   26                     0                     0   \n",
       "5777        11   27                     0                     0   \n",
       "5778        11   27                     0                     0   \n",
       "\n",
       "         travel_time_05:30:00  travel_time_05:40:00  travel_time_05:50:00  \\\n",
       "ride_id                                                                     \n",
       "1442                        0                     0                     0   \n",
       "5437                        0                     0                     0   \n",
       "5710                        0                     0                     0   \n",
       "5777                        0                     0                     0   \n",
       "5778                        0                     0                     0   \n",
       "\n",
       "         travel_time_06:00:00  travel_time_06:10:00  travel_time_06:20:00  \\\n",
       "ride_id                                                                     \n",
       "1442                        0                     0                     0   \n",
       "5437                        0                     0                     0   \n",
       "5710                        0                     0                     0   \n",
       "5777                        0                     0                     0   \n",
       "5778                        0                     0                     0   \n",
       "\n",
       "         ...  travel_from_Rongo  travel_from_Sirare  travel_from_Sori  \\\n",
       "ride_id  ...                                                            \n",
       "1442     ...                  0                   0                 0   \n",
       "5437     ...                  0                   0                 0   \n",
       "5710     ...                  0                   0                 0   \n",
       "5777     ...                  0                   0                 0   \n",
       "5778     ...                  0                   0                 0   \n",
       "\n",
       "         car_type_shuttle  weekday_Mon  weekday_Sat  weekday_Sun  \\\n",
       "ride_id                                                            \n",
       "1442                    0            0            0            0   \n",
       "5437                    0            0            0            1   \n",
       "5710                    0            0            0            1   \n",
       "5777                    0            1            0            0   \n",
       "5778                    0            1            0            0   \n",
       "\n",
       "         weekday_Thurs  weekday_Tues  weekday_Wed  \n",
       "ride_id                                            \n",
       "1442                 0             1            0  \n",
       "5437                 0             0            0  \n",
       "5710                 0             0            0  \n",
       "5777                 0             0            0  \n",
       "5778                 0             0            0  \n",
       "\n",
       "[5 rows x 102 columns]"
      ]
     },
     "execution_count": 220,
     "metadata": {},
     "output_type": "execute_result"
    }
   ],
   "source": [
    "train_processed.head()"
   ]
  },
  {
   "cell_type": "code",
   "execution_count": 221,
<<<<<<< HEAD
   "id": "808d6b54",
=======
   "id": "b6aa5a7a",
>>>>>>> c2bc8c6575e733a6b149f8c35b55d03a41571fe1
   "metadata": {},
   "outputs": [
    {
     "data": {
      "text/plain": [
       "(6249, 102)"
      ]
     },
     "execution_count": 221,
     "metadata": {},
     "output_type": "execute_result"
    }
   ],
   "source": [
    "train_processed.shape"
   ]
  },
  {
   "cell_type": "markdown",
   "id": "1a13b498",
   "metadata": {},
   "source": [
    "# Trying linear regression"
   ]
  },
  {
   "cell_type": "code",
   "execution_count": 223,
   "id": "73342e02",
   "metadata": {},
   "outputs": [],
   "source": [
    "from sklearn.model_selection import train_test_split\n",
    "from sklearn.linear_model import LinearRegression"
   ]
  },
  {
   "cell_type": "code",
   "execution_count": 233,
   "id": "bfd80c3f",
   "metadata": {},
   "outputs": [],
   "source": [
    "X = train_processed\n",
    "y = train_ml[target]\n",
    "\n",
    "X_train, X_test, y_train, y_test = train_test_split(X, y, test_size = 0.2, random_state=42)"
   ]
  },
  {
   "cell_type": "code",
   "execution_count": 236,
   "id": "af1c01e8",
   "metadata": {},
   "outputs": [
    {
     "data": {
      "text/plain": [
       "LinearRegression()"
      ]
     },
     "execution_count": 236,
     "metadata": {},
     "output_type": "execute_result"
    }
   ],
   "source": [
    "lr = LinearRegression()\n",
    "lr.fit(X_train, y_train)"
   ]
  },
  {
   "cell_type": "code",
   "execution_count": 256,
   "id": "60201c44",
   "metadata": {},
   "outputs": [],
   "source": [
    "#on train data\n",
    "y_pred = lr.predict(X_train)"
   ]
  },
  {
   "cell_type": "code",
   "execution_count": 257,
   "id": "50cc5502",
   "metadata": {},
   "outputs": [],
   "source": [
    "from sklearn import metrics"
   ]
  },
  {
   "cell_type": "code",
   "execution_count": 260,
   "id": "93167608",
   "metadata": {},
   "outputs": [
    {
     "data": {
      "image/png": "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\n",
      "text/plain": [
       "<Figure size 720x432 with 1 Axes>"
      ]
     },
     "metadata": {},
     "output_type": "display_data"
    }
   ],
   "source": [
    "plt.scatter(y_train, y_pred)\n",
    "plt.xlabel(\"Number of seats\")\n",
    "plt.ylabel(\"Predicted number of seats\")\n",
    "plt.title(\"Actual vs Predicted\")\n",
    "plt.show()"
   ]
  },
  {
   "cell_type": "code",
   "execution_count": 261,
<<<<<<< HEAD
   "id": "29134b23",
=======
   "id": "a0253c30",
>>>>>>> c2bc8c6575e733a6b149f8c35b55d03a41571fe1
   "metadata": {},
   "outputs": [
    {
     "name": "stdout",
     "output_type": "stream",
     "text": [
      "R^2: 0.4874784606874727\n",
      "Adjusted R^2: 0.4768009286184617\n",
      "MAE: 4.267544731954186\n",
      "MSE: 36.53261060522974\n",
      "RMSE: 6.044221257137245\n"
     ]
    }
   ],
   "source": [
    "# Model Evaluation\n",
    "print('R^2:',metrics.r2_score(y_train, y_pred))\n",
    "print('Adjusted R^2:',1 - (1-metrics.r2_score(y_train, y_pred))*(len(y_train)-1)/(len(y_train)-X_train.shape[1]-1))\n",
    "print('MAE:',metrics.mean_absolute_error(y_train, y_pred))\n",
    "print('MSE:',metrics.mean_squared_error(y_train, y_pred))\n",
    "print('RMSE:',np.sqrt(metrics.mean_squared_error(y_train, y_pred)))"
   ]
  },
  {
   "cell_type": "code",
   "execution_count": 262,
<<<<<<< HEAD
   "id": "697f5f6a",
=======
   "id": "e5f30f63",
>>>>>>> c2bc8c6575e733a6b149f8c35b55d03a41571fe1
   "metadata": {},
   "outputs": [],
   "source": [
    "#on test data\n",
    "y_test_pred = lr.predict(X_test)"
   ]
  },
  {
   "cell_type": "code",
   "execution_count": 263,
<<<<<<< HEAD
   "id": "7b2fe77b",
=======
   "id": "50f3e966",
>>>>>>> c2bc8c6575e733a6b149f8c35b55d03a41571fe1
   "metadata": {},
   "outputs": [
    {
     "name": "stdout",
     "output_type": "stream",
     "text": [
      "R^2: 0.48313278279857474\n",
      "Adjusted R^2: 0.4371690023674105\n",
      "MAE: 4.574972184169029\n",
      "MSE: 45.09722837553675\n",
      "RMSE: 6.715446997448253\n"
     ]
    }
   ],
   "source": [
    "acc_linreg = metrics.r2_score(y_test, y_test_pred)\n",
    "print('R^2:', acc_linreg)\n",
    "print('Adjusted R^2:',1 - (1-metrics.r2_score(y_test, y_test_pred))*(len(y_test)-1)/(len(y_test)-X_test.shape[1]-1))\n",
    "print('MAE:',metrics.mean_absolute_error(y_test, y_test_pred))\n",
    "print('MSE:',metrics.mean_squared_error(y_test, y_test_pred))\n",
    "print('RMSE:',np.sqrt(metrics.mean_squared_error(y_test, y_test_pred)))"
   ]
  },
  {
   "cell_type": "code",
   "execution_count": 264,
<<<<<<< HEAD
   "id": "9268be42",
=======
   "id": "a165ec5c",
>>>>>>> c2bc8c6575e733a6b149f8c35b55d03a41571fe1
   "metadata": {},
   "outputs": [],
   "source": [
    "#not great"
   ]
  },
  {
   "cell_type": "markdown",
<<<<<<< HEAD
   "id": "64fb3afa",
=======
   "id": "45d77c1e",
>>>>>>> c2bc8c6575e733a6b149f8c35b55d03a41571fe1
   "metadata": {},
   "source": [
    "# Trying Random Forest Regressor"
   ]
  },
  {
   "cell_type": "code",
   "execution_count": 267,
<<<<<<< HEAD
   "id": "1e3c8446",
=======
   "id": "a14f3b09",
>>>>>>> c2bc8c6575e733a6b149f8c35b55d03a41571fe1
   "metadata": {},
   "outputs": [],
   "source": [
    "from sklearn.ensemble import RandomForestRegressor\n",
    "\n",
    "rfr = RandomForestRegressor(bootstrap=True, criterion='mse', max_depth=None,\n",
    "           max_features='auto', max_leaf_nodes=None,\n",
    "           min_impurity_decrease=0.0, min_impurity_split=None,\n",
    "           min_samples_leaf=1, min_samples_split=2,\n",
    "           min_weight_fraction_leaf=0.0, n_estimators=100, n_jobs=None,\n",
    "           oob_score=False, random_state=None, verbose=0, warm_start=False)"
   ]
  },
  {
   "cell_type": "code",
   "execution_count": 269,
<<<<<<< HEAD
   "id": "2e898776",
=======
   "id": "becd1905",
>>>>>>> c2bc8c6575e733a6b149f8c35b55d03a41571fe1
   "metadata": {},
   "outputs": [
    {
     "data": {
      "text/plain": [
       "RandomForestRegressor()"
      ]
     },
     "execution_count": 269,
     "metadata": {},
     "output_type": "execute_result"
    }
   ],
   "source": [
    "rfr.fit(X_train, y_train)"
   ]
  },
  {
   "cell_type": "code",
   "execution_count": 270,
<<<<<<< HEAD
   "id": "e5f1ff05",
=======
   "id": "ac36d68d",
>>>>>>> c2bc8c6575e733a6b149f8c35b55d03a41571fe1
   "metadata": {},
   "outputs": [],
   "source": [
    "#on train data\n",
    "y_pred = rfr.predict(X_train)"
   ]
  },
  {
   "cell_type": "code",
   "execution_count": 271,
<<<<<<< HEAD
   "id": "f1b8995a",
=======
   "id": "7fcb7f5f",
>>>>>>> c2bc8c6575e733a6b149f8c35b55d03a41571fe1
   "metadata": {},
   "outputs": [
    {
     "name": "stdout",
     "output_type": "stream",
     "text": [
      "R^2: 0.9441812762499056\n",
      "Adjusted R^2: 0.9430183861717786\n",
      "MAE: 1.3465054677602188\n",
      "MSE: 3.9787668279822626\n",
      "RMSE: 1.9946846437425296\n"
     ]
    }
   ],
   "source": [
    "# Model Evaluation\n",
    "acc_rf_train = metrics.r2_score(y_train, y_pred)\n",
    "print('R^2:',metrics.r2_score(y_train, y_pred))\n",
    "print('Adjusted R^2:',1 - (1-metrics.r2_score(y_train, y_pred))*(len(y_train)-1)/(len(y_train)-X_train.shape[1]-1))\n",
    "print('MAE:',metrics.mean_absolute_error(y_train, y_pred))\n",
    "print('MSE:',metrics.mean_squared_error(y_train, y_pred))\n",
    "print('RMSE:',np.sqrt(metrics.mean_squared_error(y_train, y_pred)))"
   ]
  },
  {
   "cell_type": "code",
   "execution_count": 272,
<<<<<<< HEAD
   "id": "504f887f",
=======
   "id": "341a88b9",
>>>>>>> c2bc8c6575e733a6b149f8c35b55d03a41571fe1
   "metadata": {},
   "outputs": [
    {
     "data": {
      "image/png": "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\n",
      "text/plain": [
       "<Figure size 720x432 with 1 Axes>"
      ]
     },
     "metadata": {},
     "output_type": "display_data"
    }
   ],
   "source": [
    "plt.scatter(y_train, y_pred)\n",
    "plt.xlabel(\"Number of seats\")\n",
    "plt.ylabel(\"Predicted number of seats\")\n",
    "plt.title(\"Actual vs Predicted\")\n",
    "plt.show()"
   ]
  },
  {
   "cell_type": "code",
   "execution_count": 274,
<<<<<<< HEAD
   "id": "1b10114f",
=======
   "id": "880bbf97",
>>>>>>> c2bc8c6575e733a6b149f8c35b55d03a41571fe1
   "metadata": {},
   "outputs": [],
   "source": [
    "#on test data\n",
    "y_test_pred = rfr.predict(X_test)"
   ]
  },
  {
   "cell_type": "code",
   "execution_count": 275,
<<<<<<< HEAD
   "id": "6cfa4997",
=======
   "id": "310fbd0e",
>>>>>>> c2bc8c6575e733a6b149f8c35b55d03a41571fe1
   "metadata": {},
   "outputs": [
    {
     "name": "stdout",
     "output_type": "stream",
     "text": [
      "R^2: 0.6253536015849556\n",
      "Adjusted R^2: 0.5920371825454311\n",
      "MAE: 3.762713333333333\n",
      "MSE: 32.688306836088884\n",
      "RMSE: 5.717368873536925\n"
     ]
    }
   ],
   "source": [
    "acc_rf = metrics.r2_score(y_test, y_test_pred)\n",
    "print('R^2:', acc_rf)\n",
    "print('Adjusted R^2:',1 - (1-metrics.r2_score(y_test, y_test_pred))*(len(y_test)-1)/(len(y_test)-X_test.shape[1]-1))\n",
    "print('MAE:',metrics.mean_absolute_error(y_test, y_test_pred))\n",
    "print('MSE:',metrics.mean_squared_error(y_test, y_test_pred))\n",
    "print('RMSE:',np.sqrt(metrics.mean_squared_error(y_test, y_test_pred)))"
   ]
  },
  {
   "cell_type": "code",
   "execution_count": 276,
<<<<<<< HEAD
   "id": "cf23bd79",
=======
   "id": "a1079105",
>>>>>>> c2bc8c6575e733a6b149f8c35b55d03a41571fe1
   "metadata": {},
   "outputs": [],
   "source": [
    "#definitely better than linear regression!"
   ]
  },
  {
   "cell_type": "markdown",
<<<<<<< HEAD
   "id": "aecd30ad",
=======
   "id": "e766b14a",
>>>>>>> c2bc8c6575e733a6b149f8c35b55d03a41571fe1
   "metadata": {},
   "source": [
    "# Trying XGBResgressor"
   ]
  },
  {
   "cell_type": "code",
   "execution_count": 277,
<<<<<<< HEAD
   "id": "d6bfb176",
=======
   "id": "88f780b1",
>>>>>>> c2bc8c6575e733a6b149f8c35b55d03a41571fe1
   "metadata": {},
   "outputs": [],
   "source": [
    "from xgboost import XGBRegressor\n",
    "\n",
    "xgb = XGBRegressor(base_score=0.5, booster='gbtree', colsample_bylevel=1,\n",
    "       colsample_bytree=1, gamma=0, learning_rate=0.1, max_delta_step=0,\n",
    "       max_depth=3, min_child_weight=1, missing=None, n_estimators=100,\n",
    "       n_jobs=1, nthread=None, objective='reg:linear', random_state=0,\n",
    "       reg_alpha=0, reg_lambda=1, scale_pos_weight=1, seed=None,\n",
    "       silent=True, subsample=1)"
   ]
  },
  {
   "cell_type": "code",
   "execution_count": 278,
<<<<<<< HEAD
   "id": "95dad8d4",
=======
   "id": "0bb4bf0b",
>>>>>>> c2bc8c6575e733a6b149f8c35b55d03a41571fe1
   "metadata": {},
   "outputs": [
    {
     "name": "stdout",
     "output_type": "stream",
     "text": [
      "[13:18:31] WARNING: /opt/concourse/worker/volumes/live/7a2b9f41-3287-451b-6691-43e9a6c0910f/volume/xgboost-split_1619728204606/work/src/objective/regression_obj.cu:170: reg:linear is now deprecated in favor of reg:squarederror.\n",
      "[13:18:31] WARNING: /opt/concourse/worker/volumes/live/7a2b9f41-3287-451b-6691-43e9a6c0910f/volume/xgboost-split_1619728204606/work/src/learner.cc:541: \n",
      "Parameters: { silent } might not be used.\n",
      "\n",
      "  This may not be accurate due to some parameters are only used in language bindings but\n",
      "  passed down to XGBoost core.  Or some parameters are not used but slip through this\n",
      "  verification. Please open an issue if you find above cases.\n",
      "\n",
      "\n"
     ]
    },
    {
     "data": {
      "text/plain": [
       "XGBRegressor(base_score=0.5, booster='gbtree', colsample_bylevel=1,\n",
       "             colsample_bynode=1, colsample_bytree=1, gamma=0, gpu_id=-1,\n",
       "             importance_type='gain', interaction_constraints='',\n",
       "             learning_rate=0.1, max_delta_step=0, max_depth=3,\n",
       "             min_child_weight=1, missing=None, monotone_constraints='()',\n",
       "             n_estimators=100, n_jobs=1, nthread=1, num_parallel_tree=1,\n",
       "             objective='reg:linear', random_state=0, reg_alpha=0, reg_lambda=1,\n",
       "             scale_pos_weight=1, seed=0, silent=True, subsample=1,\n",
       "             tree_method='exact', validate_parameters=1, verbosity=None)"
      ]
     },
     "execution_count": 278,
     "metadata": {},
     "output_type": "execute_result"
    }
   ],
   "source": [
    "xgb.fit(X_train, y_train)"
   ]
  },
  {
   "cell_type": "code",
   "execution_count": 279,
<<<<<<< HEAD
   "id": "9fc86ba6",
=======
   "id": "75e61969",
>>>>>>> c2bc8c6575e733a6b149f8c35b55d03a41571fe1
   "metadata": {},
   "outputs": [],
   "source": [
    "#on train data\n",
    "y_pred = xgb.predict(X_train)"
   ]
  },
  {
   "cell_type": "code",
   "execution_count": 280,
<<<<<<< HEAD
   "id": "db3c11cd",
=======
   "id": "2d4cf495",
>>>>>>> c2bc8c6575e733a6b149f8c35b55d03a41571fe1
   "metadata": {},
   "outputs": [
    {
     "name": "stdout",
     "output_type": "stream",
     "text": [
      "R^2: 0.5659233660286962\n",
      "Adjusted R^2: 0.5568801028209607\n",
      "MAE: 3.98060881112022\n",
      "MSE: 30.941046229927444\n",
      "RMSE: 5.562467638551028\n"
     ]
    }
   ],
   "source": [
    "# Model Evaluation\n",
    "print('R^2:',metrics.r2_score(y_train, y_pred))\n",
    "print('Adjusted R^2:',1 - (1-metrics.r2_score(y_train, y_pred))*(len(y_train)-1)/(len(y_train)-X_train.shape[1]-1))\n",
    "print('MAE:',metrics.mean_absolute_error(y_train, y_pred))\n",
    "print('MSE:',metrics.mean_squared_error(y_train, y_pred))\n",
    "print('RMSE:',np.sqrt(metrics.mean_squared_error(y_train, y_pred)))"
   ]
  },
  {
   "cell_type": "code",
   "execution_count": 281,
<<<<<<< HEAD
   "id": "db7f2970",
=======
   "id": "eb2af6c9",
>>>>>>> c2bc8c6575e733a6b149f8c35b55d03a41571fe1
   "metadata": {},
   "outputs": [
    {
     "data": {
      "image/png": "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\n",
      "text/plain": [
       "<Figure size 720x432 with 1 Axes>"
      ]
     },
     "metadata": {},
     "output_type": "display_data"
    }
   ],
   "source": [
    "plt.scatter(y_train, y_pred)\n",
    "plt.xlabel(\"Number of seats\")\n",
    "plt.ylabel(\"Predicted number of seats\")\n",
    "plt.title(\"Actual vs Predicted\")\n",
    "plt.show()"
   ]
  },
  {
   "cell_type": "code",
   "execution_count": 282,
<<<<<<< HEAD
   "id": "6c37f046",
=======
   "id": "247b5a92",
>>>>>>> c2bc8c6575e733a6b149f8c35b55d03a41571fe1
   "metadata": {},
   "outputs": [],
   "source": [
    "#on test data\n",
    "y_test_pred = xgb.predict(X_test)"
   ]
  },
  {
   "cell_type": "code",
   "execution_count": 283,
<<<<<<< HEAD
   "id": "e6d4f888",
=======
   "id": "f8ac3b15",
>>>>>>> c2bc8c6575e733a6b149f8c35b55d03a41571fe1
   "metadata": {},
   "outputs": [
    {
     "name": "stdout",
     "output_type": "stream",
     "text": [
      "R^2: 0.5523959635123294\n",
      "Adjusted R^2: 0.5125915940949428\n",
      "MAE: 4.266438414788246\n",
      "MSE: 39.053940322607296\n",
      "RMSE: 6.2493151882912175\n"
     ]
    }
   ],
   "source": [
    "# Model Evaluation\n",
    "acc_xgb = metrics.r2_score(y_test, y_test_pred)\n",
    "print('R^2:', acc_xgb)\n",
    "print('Adjusted R^2:',1 - (1-metrics.r2_score(y_test, y_test_pred))*(len(y_test)-1)/(len(y_test)-X_test.shape[1]-1))\n",
    "print('MAE:',metrics.mean_absolute_error(y_test, y_test_pred))\n",
    "print('MSE:',metrics.mean_squared_error(y_test, y_test_pred))\n",
    "print('RMSE:',np.sqrt(metrics.mean_squared_error(y_test, y_test_pred)))"
   ]
  },
  {
   "cell_type": "code",
   "execution_count": null,
<<<<<<< HEAD
   "id": "bc704bb1",
=======
   "id": "eed5eab5",
>>>>>>> c2bc8c6575e733a6b149f8c35b55d03a41571fe1
   "metadata": {},
   "outputs": [],
   "source": [
    "#seems like random forest regressor is best so far"
   ]
<<<<<<< HEAD
  },
  {
   "cell_type": "markdown",
   "id": "db65e95b",
   "metadata": {},
   "source": [
    "# Time to try the test data"
   ]
  },
  {
   "cell_type": "markdown",
   "id": "cd68a2e3",
   "metadata": {},
   "source": [
    "First gotta preprocess the test data"
   ]
  },
  {
   "cell_type": "code",
   "execution_count": 284,
   "id": "3640c7ed",
   "metadata": {},
   "outputs": [
    {
     "data": {
      "text/html": [
       "<div>\n",
       "<style scoped>\n",
       "    .dataframe tbody tr th:only-of-type {\n",
       "        vertical-align: middle;\n",
       "    }\n",
       "\n",
       "    .dataframe tbody tr th {\n",
       "        vertical-align: top;\n",
       "    }\n",
       "\n",
       "    .dataframe thead th {\n",
       "        text-align: right;\n",
       "    }\n",
       "</style>\n",
       "<table border=\"1\" class=\"dataframe\">\n",
       "  <thead>\n",
       "    <tr style=\"text-align: right;\">\n",
       "      <th></th>\n",
       "      <th>travel_date</th>\n",
       "      <th>travel_time</th>\n",
       "      <th>travel_from</th>\n",
       "      <th>travel_to</th>\n",
       "      <th>car_type</th>\n",
       "      <th>max_capacity</th>\n",
       "    </tr>\n",
       "    <tr>\n",
       "      <th>ride_id</th>\n",
       "      <th></th>\n",
       "      <th></th>\n",
       "      <th></th>\n",
       "      <th></th>\n",
       "      <th></th>\n",
       "      <th></th>\n",
       "    </tr>\n",
       "  </thead>\n",
       "  <tbody>\n",
       "    <tr>\n",
       "      <th>247</th>\n",
       "      <td>2018-05-07</td>\n",
       "      <td>07:06</td>\n",
       "      <td>Kisii</td>\n",
       "      <td>Nairobi</td>\n",
       "      <td>Bus</td>\n",
       "      <td>49</td>\n",
       "    </tr>\n",
       "    <tr>\n",
       "      <th>256</th>\n",
       "      <td>2018-05-06</td>\n",
       "      <td>11:08</td>\n",
       "      <td>Kisii</td>\n",
       "      <td>Nairobi</td>\n",
       "      <td>shuttle</td>\n",
       "      <td>11</td>\n",
       "    </tr>\n",
       "    <tr>\n",
       "      <th>275</th>\n",
       "      <td>2018-05-04</td>\n",
       "      <td>05:00</td>\n",
       "      <td>Kisii</td>\n",
       "      <td>Nairobi</td>\n",
       "      <td>shuttle</td>\n",
       "      <td>11</td>\n",
       "    </tr>\n",
       "    <tr>\n",
       "      <th>285</th>\n",
       "      <td>2018-05-04</td>\n",
       "      <td>09:10</td>\n",
       "      <td>Kisii</td>\n",
       "      <td>Nairobi</td>\n",
       "      <td>shuttle</td>\n",
       "      <td>11</td>\n",
       "    </tr>\n",
       "    <tr>\n",
       "      <th>286</th>\n",
       "      <td>2018-05-04</td>\n",
       "      <td>09:20</td>\n",
       "      <td>Kisii</td>\n",
       "      <td>Nairobi</td>\n",
       "      <td>shuttle</td>\n",
       "      <td>11</td>\n",
       "    </tr>\n",
       "  </tbody>\n",
       "</table>\n",
       "</div>"
      ],
      "text/plain": [
       "        travel_date travel_time travel_from travel_to car_type  max_capacity\n",
       "ride_id                                                                     \n",
       "247      2018-05-07       07:06       Kisii   Nairobi      Bus            49\n",
       "256      2018-05-06       11:08       Kisii   Nairobi  shuttle            11\n",
       "275      2018-05-04       05:00       Kisii   Nairobi  shuttle            11\n",
       "285      2018-05-04       09:10       Kisii   Nairobi  shuttle            11\n",
       "286      2018-05-04       09:20       Kisii   Nairobi  shuttle            11"
      ]
     },
     "execution_count": 284,
     "metadata": {},
     "output_type": "execute_result"
    }
   ],
   "source": [
    "test_csv = pd.read_csv(\"test_questions.csv\", index_col = 'ride_id')\n",
    "test_csv.head()"
   ]
  },
  {
   "cell_type": "code",
   "execution_count": null,
   "id": "042fbad1",
   "metadata": {},
   "outputs": [],
   "source": []
=======
>>>>>>> c2bc8c6575e733a6b149f8c35b55d03a41571fe1
  }
 ],
 "metadata": {
  "kernelspec": {
   "display_name": "Python 3",
   "language": "python",
   "name": "python3"
  },
  "language_info": {
   "codemirror_mode": {
    "name": "ipython",
    "version": 3
   },
   "file_extension": ".py",
   "mimetype": "text/x-python",
   "name": "python",
   "nbconvert_exporter": "python",
   "pygments_lexer": "ipython3",
   "version": "3.8.8"
  }
 },
 "nbformat": 4,
 "nbformat_minor": 5
}
